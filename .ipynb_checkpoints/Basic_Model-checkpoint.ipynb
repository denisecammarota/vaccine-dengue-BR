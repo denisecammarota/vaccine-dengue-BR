{
 "cells": [
  {
   "cell_type": "markdown",
   "id": "9e462fdd",
   "metadata": {},
   "source": [
    "# Basic Model Dengue Vaccination\n",
    "\n",
    "## Description of the model\n",
    "\n",
    "- 5 age groups: infants, children, adolescents, adults and the elderly\n",
    "- born infants, died as elderly (only birth in the first group, only death as the elderly), other mortality is negligible\n",
    "- considering that mortality from dengue is negligible\n",
    "- considering high and no transmission seasons\n",
    "- high season of 3 months, the rest is low or no transmission\n",
    "- considering random introductions throughout the years, random initial 'spark'"
   ]
  },
  {
   "cell_type": "code",
   "execution_count": 1,
   "id": "34feb225",
   "metadata": {},
   "outputs": [],
   "source": [
    "import numpy as np\n",
    "import matplotlib.pyplot as plt\n",
    "from scipy.integrate import odeint, solve_ivp\n",
    "np.random.seed(123)"
   ]
  },
  {
   "cell_type": "code",
   "execution_count": 2,
   "id": "b4d92cad",
   "metadata": {},
   "outputs": [],
   "source": [
    "@np.vectorize\n",
    "def beta_step(beta_0,beta_aug,t_start,t_season,t_year,t):\n",
    "  # beta_0 is the basal beta\n",
    "  # beta_aug is the beta at high transmission season\n",
    "  # t_start is start time of the high transmission season\n",
    "  # t_season is the duration of the high transmission season\n",
    "  # t_year is the duration of a year (giving the function periodicity)\n",
    "  # t is current time time\n",
    "  # normalize time up to a year\n",
    "  t_norm = t%t_year\n",
    "  # and now we look for the value of the function\n",
    "  if(t_norm >= t_start and t_norm <= t_start + t_season):\n",
    "    value = beta_aug\n",
    "  else:\n",
    "    value = beta_0\n",
    "  return value"
   ]
  },
  {
   "cell_type": "code",
   "execution_count": 3,
   "id": "2381cc77",
   "metadata": {},
   "outputs": [],
   "source": [
    "@np.vectorize\n",
    "def beta_cos(beta_0,beta_aug,t_start,t_season,t_year,t):\n",
    "  # beta_0 is the mean value\n",
    "  # beta_aug is the amplitude\n",
    "  # t_start is start time of the high transmission season\n",
    "  # t_season is the duration of the high transmission season\n",
    "  # t_year is the duration of a year (giving the function periodicity)\n",
    "  # t is current time time\n",
    "  # normalize time up to a year\n",
    "  value = beta_aug*np.cos(2*np.pi*t/t_year) + beta_0\n",
    "  return value"
   ]
  },
  {
   "cell_type": "markdown",
   "id": "191e4ec1",
   "metadata": {},
   "source": [
    "## Attempt 1: no transmission\n",
    "\n",
    "- Checking how the population behaves under our parametrization \n",
    "- No transmission, just the populational model"
   ]
  },
  {
   "cell_type": "code",
   "execution_count": 4,
   "id": "e6b314d2",
   "metadata": {},
   "outputs": [],
   "source": [
    "def n_groups_model(y, t, N, pop, beta, gamma, mu_vec, l_vec):\n",
    "    # N is number of age groups \n",
    "    S = y[0:N]\n",
    "    I = y[N:2*N]\n",
    "    R = y[2*N:3*N]\n",
    "    IT = sum(I) #total infected\n",
    "    S = np.append(S,0)\n",
    "    I = np.append(I,0)\n",
    "    R = np.append(R,0)\n",
    "    S = np.append(0,S)\n",
    "    I = np.append(0,I)\n",
    "    R = np.append(0,R)\n",
    "    l_vec_2 = np.append(0,l_vec)\n",
    "    l_vec_2 = l_vec_2[:-1]\n",
    "    dSdt = -beta*S[1:-1]*IT - mu_vec*S[1:-1] - l_vec*S[1:-1] + l_vec_2*S[:-2]\n",
    "    dIdt =  beta*S[1:-1]*IT - gamma*I[1:-1] - mu_vec*I[1:-1] - l_vec*I[1:-1] + l_vec_2*I[:-2]\n",
    "    dRdt =  gamma*I[1:-1] - mu_vec*R[1:-1] - l_vec*R[1:-1] + l_vec_2*R[:-2]\n",
    "    dSdt[0] = dSdt[0] + nu\n",
    "    return np.array([dSdt, dIdt, dRdt]).flatten()"
   ]
  },
  {
   "cell_type": "code",
   "execution_count": 5,
   "id": "f380fda6",
   "metadata": {},
   "outputs": [
    {
     "name": "stdout",
     "output_type": "stream",
     "text": [
      "0.06666666666666665 0.06666666666666667\n"
     ]
    }
   ],
   "source": [
    "N = 5\n",
    "pop = 12000000\n",
    "y0 = 800000/pop,1600000/pop,900000/pop,8000000/pop,700000/pop,0,0,0,0,0,0,0,0,0,0\n",
    "\n",
    "alpha1 = 800000/pop\n",
    "alpha2 = 1600000/pop\n",
    "alpha3 = 900000/pop\n",
    "alpha4 = 8000000/pop\n",
    "alpha5 = 700000/pop\n",
    "\n",
    "beta = 0\n",
    "gamma = 1/(7.0)\n",
    "\n",
    "nu = 100000/365 # 100k nascimentos por dia\n",
    "l1 = nu/alpha1\n",
    "l2 = l1*alpha1/alpha2\n",
    "l3 = l2*alpha2/alpha3\n",
    "l4 = l3*alpha3/alpha4\n",
    "mu = l4*alpha4/alpha5\n",
    "\n",
    "print(nu/l1,alpha1)\n",
    "\n",
    "l_vec = np.array([l1,l2,l3,l4,0])\n",
    "mu_vec = np.array([0,0,0,0,mu])\n",
    "\n",
    "\n",
    "t_total = np.linspace(0, 365, 365)\n",
    "\n",
    "y0 = alpha1,alpha2,alpha3,alpha4,alpha5,0,0,0,0,0,0,0,0,0,0\n",
    "\n",
    "ret = odeint(n_groups_model, y0, t_total, args=(N, pop, beta, gamma, mu_vec, l_vec))"
   ]
  },
  {
   "cell_type": "code",
   "execution_count": 6,
   "id": "f9d79a58",
   "metadata": {},
   "outputs": [
    {
     "data": {
      "text/plain": [
       "array([[0.06666667, 0.13333333, 0.075     , ..., 0.        , 0.        ,\n",
       "        0.        ],\n",
       "       [0.06666667, 0.13333333, 0.075     , ..., 0.        , 0.        ,\n",
       "        0.        ],\n",
       "       [0.06666667, 0.13333333, 0.075     , ..., 0.        , 0.        ,\n",
       "        0.        ],\n",
       "       ...,\n",
       "       [0.06666667, 0.13333333, 0.075     , ..., 0.        , 0.        ,\n",
       "        0.        ],\n",
       "       [0.06666667, 0.13333333, 0.075     , ..., 0.        , 0.        ,\n",
       "        0.        ],\n",
       "       [0.06666667, 0.13333333, 0.075     , ..., 0.        , 0.        ,\n",
       "        0.        ]])"
      ]
     },
     "execution_count": 6,
     "metadata": {},
     "output_type": "execute_result"
    }
   ],
   "source": [
    "ret"
   ]
  },
  {
   "cell_type": "code",
   "execution_count": 7,
   "id": "7c60002c",
   "metadata": {},
   "outputs": [
    {
     "data": {
      "text/plain": [
       "array([1., 1., 1., 1., 1., 1., 1., 1., 1., 1., 1., 1., 1., 1., 1., 1., 1.,\n",
       "       1., 1., 1., 1., 1., 1., 1., 1., 1., 1., 1., 1., 1., 1., 1., 1., 1.,\n",
       "       1., 1., 1., 1., 1., 1., 1., 1., 1., 1., 1., 1., 1., 1., 1., 1., 1.,\n",
       "       1., 1., 1., 1., 1., 1., 1., 1., 1., 1., 1., 1., 1., 1., 1., 1., 1.,\n",
       "       1., 1., 1., 1., 1., 1., 1., 1., 1., 1., 1., 1., 1., 1., 1., 1., 1.,\n",
       "       1., 1., 1., 1., 1., 1., 1., 1., 1., 1., 1., 1., 1., 1., 1., 1., 1.,\n",
       "       1., 1., 1., 1., 1., 1., 1., 1., 1., 1., 1., 1., 1., 1., 1., 1., 1.,\n",
       "       1., 1., 1., 1., 1., 1., 1., 1., 1., 1., 1., 1., 1., 1., 1., 1., 1.,\n",
       "       1., 1., 1., 1., 1., 1., 1., 1., 1., 1., 1., 1., 1., 1., 1., 1., 1.,\n",
       "       1., 1., 1., 1., 1., 1., 1., 1., 1., 1., 1., 1., 1., 1., 1., 1., 1.,\n",
       "       1., 1., 1., 1., 1., 1., 1., 1., 1., 1., 1., 1., 1., 1., 1., 1., 1.,\n",
       "       1., 1., 1., 1., 1., 1., 1., 1., 1., 1., 1., 1., 1., 1., 1., 1., 1.,\n",
       "       1., 1., 1., 1., 1., 1., 1., 1., 1., 1., 1., 1., 1., 1., 1., 1., 1.,\n",
       "       1., 1., 1., 1., 1., 1., 1., 1., 1., 1., 1., 1., 1., 1., 1., 1., 1.,\n",
       "       1., 1., 1., 1., 1., 1., 1., 1., 1., 1., 1., 1., 1., 1., 1., 1., 1.,\n",
       "       1., 1., 1., 1., 1., 1., 1., 1., 1., 1., 1., 1., 1., 1., 1., 1., 1.,\n",
       "       1., 1., 1., 1., 1., 1., 1., 1., 1., 1., 1., 1., 1., 1., 1., 1., 1.,\n",
       "       1., 1., 1., 1., 1., 1., 1., 1., 1., 1., 1., 1., 1., 1., 1., 1., 1.,\n",
       "       1., 1., 1., 1., 1., 1., 1., 1., 1., 1., 1., 1., 1., 1., 1., 1., 1.,\n",
       "       1., 1., 1., 1., 1., 1., 1., 1., 1., 1., 1., 1., 1., 1., 1., 1., 1.,\n",
       "       1., 1., 1., 1., 1., 1., 1., 1., 1., 1., 1., 1., 1., 1., 1., 1., 1.,\n",
       "       1., 1., 1., 1., 1., 1., 1., 1.])"
      ]
     },
     "execution_count": 7,
     "metadata": {},
     "output_type": "execute_result"
    }
   ],
   "source": [
    "ret[:,0:5].sum(axis = 1)"
   ]
  },
  {
   "cell_type": "code",
   "execution_count": 8,
   "id": "882870c3",
   "metadata": {},
   "outputs": [
    {
     "data": {
      "text/plain": [
       "[<matplotlib.lines.Line2D at 0x1b74e2b95b0>,\n",
       " <matplotlib.lines.Line2D at 0x1b74e2b9610>,\n",
       " <matplotlib.lines.Line2D at 0x1b74e2b9640>,\n",
       " <matplotlib.lines.Line2D at 0x1b74e2b9730>,\n",
       " <matplotlib.lines.Line2D at 0x1b74e2b9820>]"
      ]
     },
     "execution_count": 8,
     "metadata": {},
     "output_type": "execute_result"
    },
    {
     "data": {
      "image/png": "[encoded data removed]",
      "text/plain": [
       "<Figure size 640x480 with 1 Axes>"
      ]
     },
     "metadata": {},
     "output_type": "display_data"
    }
   ],
   "source": [
    "plt.plot(t_total/365,ret[:,0:5])"
   ]
  },
  {
   "cell_type": "markdown",
   "id": "6b247dd9",
   "metadata": {},
   "source": [
    "## Attempt 2: no seasonal transmission\n",
    "\n",
    "- No seasonal transmission, constant beta\n",
    "- Initial condition in adults"
   ]
  },
  {
   "cell_type": "code",
   "execution_count": 9,
   "id": "c0b09637",
   "metadata": {},
   "outputs": [
    {
     "name": "stdout",
     "output_type": "stream",
     "text": [
      "2.0\n",
      "0.06666666666666667 0.06666666666666667\n"
     ]
    }
   ],
   "source": [
    "N = 5\n",
    "pop = 12000000\n",
    "#y0 = 800000/pop,1600000/pop,900000/pop,8000000/pop,700000/pop,0,0,0,0,0,0,0,0,0,0\n",
    "\n",
    "alpha1 = 800000/pop\n",
    "alpha2 = 1600000/pop\n",
    "alpha3 = 900000/pop\n",
    "alpha4 = 8000000/pop\n",
    "alpha5 = 700000/pop\n",
    "\n",
    "gamma = 1/(7.0)\n",
    "beta = 2*gamma\n",
    "print(beta/gamma)\n",
    "\n",
    "\n",
    "l1 = 1/(365*5)\n",
    "nu = alpha1*l1\n",
    "l2 = l1*alpha1/alpha2\n",
    "l3 = l2*alpha2/alpha3\n",
    "l4 = l3*alpha3/alpha4\n",
    "mu = l4*alpha4/alpha5\n",
    "\n",
    "print(nu/l1,alpha1)\n",
    "\n",
    "l_vec = np.array([l1,l2,l3,l4,0])\n",
    "mu_vec = np.array([0,0,0,0,mu])\n",
    "\n",
    "\n",
    "t_total = np.linspace(0, 365*10, 10000)\n",
    "\n",
    "y0 = alpha1,alpha2,alpha3,(8000000-10)/pop,alpha5,0,0,0,10/pop,0,0,0,0,0,0\n",
    "\n",
    "ret = odeint(n_groups_model, y0, t_total, args=(N, pop, beta, gamma, mu_vec, l_vec))"
   ]
  },
  {
   "cell_type": "code",
   "execution_count": 10,
   "id": "4f6e5861",
   "metadata": {},
   "outputs": [
    {
     "data": {
      "text/plain": [
       "array([5.47945205e-04, 2.73972603e-04, 4.87062405e-04, 5.47945205e-05,\n",
       "       0.00000000e+00])"
      ]
     },
     "execution_count": 10,
     "metadata": {},
     "output_type": "execute_result"
    }
   ],
   "source": [
    "l_vec"
   ]
  },
  {
   "cell_type": "code",
   "execution_count": 11,
   "id": "9e1abe90",
   "metadata": {},
   "outputs": [
    {
     "data": {
      "text/plain": [
       "array([ 5.   , 10.   ,  5.625, 50.   ])"
      ]
     },
     "execution_count": 11,
     "metadata": {},
     "output_type": "execute_result"
    }
   ],
   "source": [
    "1/l_vec[:-1]/365"
   ]
  },
  {
   "cell_type": "code",
   "execution_count": 12,
   "id": "2601b01f",
   "metadata": {},
   "outputs": [
    {
     "data": {
      "text/plain": [
       "(0.06666666666666667,\n",
       " 0.13333333333333333,\n",
       " 0.075,\n",
       " 0.6666658333333333,\n",
       " 0.058333333333333334,\n",
       " 0,\n",
       " 0,\n",
       " 0,\n",
       " 8.333333333333333e-07,\n",
       " 0,\n",
       " 0,\n",
       " 0,\n",
       " 0,\n",
       " 0,\n",
       " 0)"
      ]
     },
     "execution_count": 12,
     "metadata": {},
     "output_type": "execute_result"
    }
   ],
   "source": [
    "y0"
   ]
  },
  {
   "cell_type": "code",
   "execution_count": 13,
   "id": "5771d827",
   "metadata": {
    "scrolled": false
   },
   "outputs": [
    {
     "data": {
      "text/plain": [
       "[<matplotlib.lines.Line2D at 0x1b74f4ed2e0>,\n",
       " <matplotlib.lines.Line2D at 0x1b74f4ed340>,\n",
       " <matplotlib.lines.Line2D at 0x1b74f4ed370>,\n",
       " <matplotlib.lines.Line2D at 0x1b74f4ed460>,\n",
       " <matplotlib.lines.Line2D at 0x1b74f4ed550>]"
      ]
     },
     "execution_count": 13,
     "metadata": {},
     "output_type": "execute_result"
    },
    {
     "data": {
      "image/png": "[encoded data removed]",
      "text/plain": [
       "<Figure size 640x480 with 1 Axes>"
      ]
     },
     "metadata": {},
     "output_type": "display_data"
    }
   ],
   "source": [
    "plt.plot(t_total,ret[:,0:5]+ret[:,5:10]+ret[:,10:])"
   ]
  },
  {
   "cell_type": "code",
   "execution_count": 14,
   "id": "4239b490",
   "metadata": {},
   "outputs": [
    {
     "data": {
      "text/plain": [
       "[<matplotlib.lines.Line2D at 0x1b74f532970>,\n",
       " <matplotlib.lines.Line2D at 0x1b74f5329d0>,\n",
       " <matplotlib.lines.Line2D at 0x1b74f532a00>,\n",
       " <matplotlib.lines.Line2D at 0x1b74f532af0>,\n",
       " <matplotlib.lines.Line2D at 0x1b74f532be0>]"
      ]
     },
     "execution_count": 14,
     "metadata": {},
     "output_type": "execute_result"
    },
    {
     "data": {
      "image/png": "[encoded data removed]",
      "text/plain": [
       "<Figure size 640x480 with 1 Axes>"
      ]
     },
     "metadata": {},
     "output_type": "display_data"
    }
   ],
   "source": [
    "plt.plot(t_total,ret[:,5:10]*pop)"
   ]
  },
  {
   "cell_type": "code",
   "execution_count": 15,
   "id": "dc236ca0",
   "metadata": {},
   "outputs": [
    {
     "data": {
      "image/png": "[encoded data removed]",
      "text/plain": [
       "<Figure size 640x480 with 1 Axes>"
      ]
     },
     "metadata": {},
     "output_type": "display_data"
    }
   ],
   "source": [
    "inf_total = ((ret[365,10:] - ret[0,10:])*pop).sum()\n",
    "prop_pop = np.array([alpha1,alpha2,alpha3,alpha4,alpha5])*pop*inf_total\n",
    "plt.plot(ret[364,10:]*pop/prop_pop - ret[0,10:]*pop/prop_pop, '-o')\n",
    "plt.ylabel('Population Proportion')\n",
    "plt.xlabel('Age group')\n",
    "plt.show()"
   ]
  },
  {
   "cell_type": "markdown",
   "id": "33081b9a",
   "metadata": {},
   "source": [
    "# Modifications to count number of infected"
   ]
  },
  {
   "cell_type": "markdown",
   "id": "66cfc04b",
   "metadata": {},
   "source": [
    "## Attempt 3: seasonal transmission high season and no season\n",
    "- includes seasonal transmission, random reintroductions\n",
    "- high season wih an R0 of 2, low season of no transmission\n",
    "- purely seasonal disease driven by reintroductions"
   ]
  },
  {
   "cell_type": "code",
   "execution_count": 16,
   "id": "49dcf722",
   "metadata": {},
   "outputs": [],
   "source": [
    "def n_groups_seasonal_model(y, t, N, pop, nu, beta_0,beta_aug,t_start,t_season,t_year, gamma, mu_vec, l_vec):\n",
    "    # N is number of age groups \n",
    "    S = y[0:N]\n",
    "    I = y[N:2*N]\n",
    "    R = y[2*N:3*N]\n",
    "    C = y[3*N:4*N]\n",
    "    beta = beta_step(beta_0,beta_aug,t_start,t_season,t_year,t)\n",
    "    IT = sum(I) #total infected\n",
    "    S = np.append(S,0)\n",
    "    I = np.append(I,0)\n",
    "    R = np.append(R,0)\n",
    "    S = np.append(0,S)\n",
    "    I = np.append(0,I)\n",
    "    R = np.append(0,R)\n",
    "    C = np.append(C,0)\n",
    "    C = np.append(0,C)\n",
    "    l_vec_2 = np.append(0,l_vec)\n",
    "    l_vec_2 = l_vec_2[:-1]\n",
    "    dSdt = -beta*S[1:-1]*IT - mu_vec*S[1:-1] - l_vec*S[1:-1] + l_vec_2*S[:-2]\n",
    "    dIdt =  beta*S[1:-1]*IT - gamma*I[1:-1] - mu_vec*I[1:-1] - l_vec*I[1:-1] + l_vec_2*I[:-2]\n",
    "    dRdt =  gamma*I[1:-1] - mu_vec*R[1:-1] - l_vec*R[1:-1] + l_vec_2*R[:-2]\n",
    "    dSdt[0] = dSdt[0] + nu\n",
    "    dCdt = beta*S[1:-1]*IT\n",
    "    return np.array([dSdt, dIdt, dRdt,dCdt]).flatten()"
   ]
  },
  {
   "cell_type": "code",
   "execution_count": 17,
   "id": "2a13f426",
   "metadata": {},
   "outputs": [],
   "source": [
    "def n_groups_seasonal_model_ivp(t, y, N, pop, nu, beta_0,beta_aug,t_start,t_season,t_year, gamma, mu_vec, l_vec):\n",
    "    # N is number of age groups \n",
    "    S = y[0:N]\n",
    "    I = y[N:2*N]\n",
    "    R = y[2*N:3*N]\n",
    "    C = y[3*N:4*N]\n",
    "    beta = beta_step(beta_0,beta_aug,t_start,t_season,t_year,t)\n",
    "    IT = sum(I) #total infected\n",
    "    S = np.append(S,0)\n",
    "    I = np.append(I,0)\n",
    "    R = np.append(R,0)\n",
    "    S = np.append(0,S)\n",
    "    I = np.append(0,I)\n",
    "    R = np.append(0,R)\n",
    "    C = np.append(C,0)\n",
    "    C = np.append(0,C)\n",
    "    l_vec_2 = np.append(0,l_vec)\n",
    "    l_vec_2 = l_vec_2[:-1]\n",
    "    dSdt = -beta*S[1:-1]*IT - mu_vec*S[1:-1] - l_vec*S[1:-1] + l_vec_2*S[:-2]\n",
    "    dIdt =  beta*S[1:-1]*IT - gamma*I[1:-1] - mu_vec*I[1:-1] - l_vec*I[1:-1] + l_vec_2*I[:-2]\n",
    "    dRdt =  gamma*I[1:-1] - mu_vec*R[1:-1] - l_vec*R[1:-1] + l_vec_2*R[:-2]\n",
    "    dSdt[0] = dSdt[0] + nu\n",
    "    dCdt = beta*S[1:-1]*IT\n",
    "    return np.array([dSdt, dIdt, dRdt,dCdt]).flatten()"
   ]
  },
  {
   "cell_type": "code",
   "execution_count": 18,
   "id": "3dbf90ea",
   "metadata": {},
   "outputs": [
    {
     "name": "stdout",
     "output_type": "stream",
     "text": [
      "3.0\n",
      "0.0\n",
      "0.06666666666666667 0.06666666666666667\n"
     ]
    }
   ],
   "source": [
    "N = 5\n",
    "pop = 12000000\n",
    "#y0 = 800000/pop,1600000/pop,900000/pop,8000000/pop,700000/pop,0,0,0,0,0,0,0,0,0,0\n",
    "\n",
    "alpha1 = 800000/pop\n",
    "alpha2 = 1600000/pop\n",
    "alpha3 = 900000/pop\n",
    "alpha4 = 8000000/pop\n",
    "alpha5 = 700000/pop\n",
    "\n",
    "gamma = 1/(7.0)\n",
    "beta_0 = 0*gamma # even like different from 0 it's the same\n",
    "beta_aug = 3*gamma\n",
    "print(beta_aug/gamma)\n",
    "print(beta_0/gamma)\n",
    "t_start = 0\n",
    "t_season = 60\n",
    "t_year = 365\n",
    "\n",
    "\n",
    "l1 = 1/(365*5)\n",
    "nu = alpha1*l1\n",
    "l2 = l1*alpha1/alpha2\n",
    "l3 = l2*alpha2/alpha3\n",
    "l4 = l3*alpha3/alpha4\n",
    "mu = l4*alpha4/alpha5\n",
    "\n",
    "print(nu/l1,alpha1)\n",
    "\n",
    "l_vec = np.array([l1,l2,l3,l4,0])\n",
    "mu_vec = np.array([0,0,0,0,mu])\n",
    "\n",
    "\n",
    "t_total = np.linspace(0, 365*10, 10000)\n",
    "\n",
    "y0 = alpha1,alpha2,alpha3,(8000000-1)/pop,alpha5,0,0,0,1/pop,0,0,0,0,0,0,0,0,0,1/pop,0\n",
    "\n",
    "ret = odeint(n_groups_seasonal_model, y0, t_total, args=(N, pop, nu, beta_0,beta_aug,t_start,t_season,t_year, gamma, mu_vec, l_vec))"
   ]
  },
  {
   "cell_type": "code",
   "execution_count": 19,
   "id": "75f2748b",
   "metadata": {},
   "outputs": [
    {
     "data": {
      "text/plain": [
       "array([ 1.00000000e+00,  1.11010205e+00,  1.23229524e+00, ...,\n",
       "       -3.68495639e-06, -3.78916788e-06, -3.89333486e-06])"
      ]
     },
     "execution_count": 19,
     "metadata": {},
     "output_type": "execute_result"
    }
   ],
   "source": [
    "pop*ret[:,5:10].sum(axis = 1)"
   ]
  },
  {
   "cell_type": "code",
   "execution_count": 20,
   "id": "4846d13c",
   "metadata": {},
   "outputs": [
    {
     "data": {
      "image/png": "[encoded data removed]",
      "text/plain": [
       "<Figure size 640x480 with 1 Axes>"
      ]
     },
     "metadata": {},
     "output_type": "display_data"
    }
   ],
   "source": [
    "# plot of infected over time\n",
    "plt.plot(ret[:,5:10]*pop)\n",
    "plt.show()"
   ]
  },
  {
   "cell_type": "code",
   "execution_count": 21,
   "id": "4827b89a",
   "metadata": {},
   "outputs": [
    {
     "data": {
      "image/png": "[encoded data removed]",
      "text/plain": [
       "<Figure size 640x480 with 1 Axes>"
      ]
     },
     "metadata": {},
     "output_type": "display_data"
    }
   ],
   "source": [
    "# plot of new infected per day over time\n",
    "plt.plot((ret[1:,15:] - ret[:-1,15:])*pop)\n",
    "plt.show()"
   ]
  },
  {
   "cell_type": "code",
   "execution_count": 22,
   "id": "5bd1ab09",
   "metadata": {},
   "outputs": [
    {
     "data": {
      "image/png": "[encoded data removed]",
      "text/plain": [
       "<Figure size 640x480 with 1 Axes>"
      ]
     },
     "metadata": {},
     "output_type": "display_data"
    }
   ],
   "source": [
    "# plot of new infected per day over time, summing over all age groups\n",
    "plt.plot(pop*(ret[1:,15:] - ret[:-1,15:]).sum(axis = 1))\n",
    "plt.show()"
   ]
  },
  {
   "cell_type": "code",
   "execution_count": 23,
   "id": "8269e910",
   "metadata": {},
   "outputs": [
    {
     "data": {
      "text/plain": [
       "array([7.33047606e+12, 1.46609521e+13, 8.24678557e+12, 7.33047606e+13,\n",
       "       6.41416655e+12])"
      ]
     },
     "execution_count": 23,
     "metadata": {},
     "output_type": "execute_result"
    }
   ],
   "source": [
    "prop_pop"
   ]
  },
  {
   "cell_type": "code",
   "execution_count": 24,
   "id": "a54fe17a",
   "metadata": {},
   "outputs": [
    {
     "data": {
      "text/plain": [
       "array([ 549074.42866547, 1096505.5538679 ,  616783.42633613,\n",
       "       5482518.66016742,  479720.44063109])"
      ]
     },
     "execution_count": 24,
     "metadata": {},
     "output_type": "execute_result"
    }
   ],
   "source": [
    "pop*(ret[1:,15:] - ret[:-1,15:]).sum(axis = 0)"
   ]
  },
  {
   "cell_type": "code",
   "execution_count": 25,
   "id": "79e8f29c",
   "metadata": {},
   "outputs": [
    {
     "data": {
      "image/png": "[encoded data removed]",
      "text/plain": [
       "<Figure size 640x480 with 1 Axes>"
      ]
     },
     "metadata": {},
     "output_type": "display_data"
    }
   ],
   "source": [
    "inf_total = pop*(ret[1:,15:] - ret[:-1,15:]).sum(axis = 1).sum()\n",
    "prop_pop = np.array([alpha1,alpha2,alpha3,alpha4,alpha5])*pop*inf_total\n",
    "plt.plot(pop/prop_pop*(ret[1:,15:] - ret[:-1,15:]).sum(axis = 0), '-o')\n",
    "plt.ylabel('Population Proportion')\n",
    "plt.xlabel('Age group')\n",
    "plt.show()"
   ]
  },
  {
   "cell_type": "markdown",
   "id": "9e1d9648",
   "metadata": {},
   "source": [
    "## Attempt 4: seasonal transmission high season and no season + deterministic reintroductions\n",
    "- includes seasonal transmission, random reintroductions\n",
    "- high season wih an R0 of 2, low season of no transmission\n",
    "- purely seasonal disease driven by reintroductions\n",
    "- we run season by season and include an introduction"
   ]
  },
  {
   "cell_type": "code",
   "execution_count": 26,
   "id": "4ca688c7",
   "metadata": {},
   "outputs": [],
   "source": [
    "def modify_initial_condition(y0, prop_imported):\n",
    "    y0_aux = y0.copy()\n",
    "    y0[:N] = (y0_aux[:N]*pop - 1)/pop # suscteptible reduction\n",
    "    y0[N:2*N] = (y0_aux[N:2*N]*pop + 1)/pop # infected grow\n",
    "    y0[3*N:4*N] = (y0_aux[3*N:4*N]*pop + 1)/pop  # increase in new cases per day\n",
    "    return y0"
   ]
  },
  {
   "cell_type": "code",
   "execution_count": 27,
   "id": "057f48e6",
   "metadata": {},
   "outputs": [],
   "source": [
    "def modify_initial_condition_2(y0, prop_imported):\n",
    "    y0_aux = y0.copy()\n",
    "    y0[3] = (y0_aux[3]*pop - 1)/pop # suscteptible reduction\n",
    "    y0[8] = (y0_aux[8]*pop + 1)/pop # infected grow\n",
    "    y0[18] = (y0_aux[18]*pop + 1)/pop  # increase in new cases per day\n",
    "    return y0"
   ]
  },
  {
   "cell_type": "code",
   "execution_count": 31,
   "id": "77297ce0",
   "metadata": {
    "scrolled": false
   },
   "outputs": [
    {
     "name": "stdout",
     "output_type": "stream",
     "text": [
      "2.7\n",
      "0.0\n",
      "0.06666666666666667 0.06666666666666667\n",
      "[17.3543069  20.41340616 20.54160582 20.5482283  20.54824802]\n"
     ]
    },
    {
     "data": {
      "image/png": "[encoded data removed]",
      "text/plain": [
       "<Figure size 640x480 with 1 Axes>"
      ]
     },
     "metadata": {},
     "output_type": "display_data"
    },
    {
     "name": "stdout",
     "output_type": "stream",
     "text": [
      "[15.50173937 21.42091729 21.94331247 22.00334308 22.00396743]\n",
      "[13.73451388 21.85565505 22.93232244 23.12816497 23.13093228]\n",
      "[12.14396421 21.9183098  23.62863526 24.06091352 24.06868889]\n",
      "[10.74765531 21.72419128 24.08981477 24.86504976 24.88195278]\n",
      "[ 9.53789798 21.35022602 24.35283218 25.5749364  25.60610324]\n",
      "[ 8.49791749 20.85152625 24.44645324 26.2111311  26.26240357]\n",
      "[ 7.60831629 20.26901388 24.39549833 26.78682884 26.86442979]\n",
      "[ 6.84986341 19.63361086 24.22236089 27.31099001 27.42122069]\n",
      "[ 6.20469473 18.96884509 23.94751678 27.79001082 27.93898996]\n",
      "[ 5.65677101 18.29261617 23.58966405 28.22867699 28.42213   ]\n",
      "[ 5.1919761  17.61846342 23.16574523 28.63073412 28.8738341 ]\n",
      "[ 4.79804388 16.9565153  22.69095422 28.99924203 29.29649956]\n",
      "[ 4.46440316 16.31421471 22.17875955 29.33679651 29.69199295]\n",
      "[ 4.18199729 15.69688874 21.64095991 29.645674   30.06183184]\n",
      "[ 3.94309635 15.10819543 21.08776309 29.92792255 30.40730597]\n",
      "[ 3.7411221  14.55048208 20.52788878 30.18542244 30.72956163]\n",
      "[ 3.57048679 14.02507074 19.96868407 30.41992435 31.02965747]\n",
      "[ 3.42644855 13.53248588 19.41624569 30.63307246 31.30860022]\n",
      "[ 3.30498714 13.0726395  18.87554703 30.82642056 31.56736879]\n",
      "[ 3.20269463 12.64497826 18.3505621  31.00144084 31.80692744]\n",
      "[ 3.11668199 12.24860182 17.8443853  31.15952925 32.02823259]\n",
      "[ 3.04449917 11.88235756 17.3593445  31.30200872 32.23223513]\n",
      "[ 2.98406767 11.54491659 16.89710654 31.43013129 32.41988007]\n",
      "[ 2.93362179 11.23483264 16.45877251 31.54507849 32.59210297]\n",
      "[ 2.89166138 10.95059074 16.04496623 31.64796326 32.74982734]\n",
      "[ 2.85691032 10.69064417 15.65591226 31.7398307  32.89396016]\n",
      "[ 2.82828197 10.45344339 15.29150558 31.82165929 33.02538778]\n",
      "[ 2.80485012 10.23745846 14.95137301 31.89436237 33.14497195]\n",
      "[ 2.78582453 10.04119589 14.63492694 31.9587899  33.25354632]\n",
      "[ 2.77053033  9.8632112  14.34141195 32.01573048 33.35191336]\n",
      "[ 2.75839072  9.70211799 14.06994502 32.06591364 33.44084196]\n",
      "[ 2.74891233  9.55659413 13.81954979 32.11001228 33.52106548]\n",
      "[ 2.74167299  9.42538573 13.5891857  32.14864535 33.59328041]\n",
      "[ 2.73631132  9.30730934 13.37777244 32.18238062 33.65814554]\n",
      "[ 2.73251793  9.2012527  13.18421028 32.21173746 33.7162816 ]\n",
      "[ 2.73002801  9.10617442 13.00739689 32.23718978 33.76827132]\n",
      "[ 2.72861502  9.02110279 12.84624089 32.25916884 33.81465989]\n",
      "[ 2.72808531  8.94513395 12.69967287 32.27806617 33.85595564]\n",
      "[ 2.72827355  8.87742958 12.56665386 32.29423629 33.8926311 ]\n"
     ]
    },
    {
     "data": {
      "image/png": "[encoded data removed]",
      "text/plain": [
       "<Figure size 640x480 with 1 Axes>"
      ]
     },
     "metadata": {},
     "output_type": "display_data"
    }
   ],
   "source": [
    "N = 5\n",
    "pop = 12000000\n",
    "#y0 = 800000/pop,1600000/pop,900000/pop,8000000/pop,700000/pop,0,0,0,0,0,0,0,0,0,0\n",
    "\n",
    "alpha1 = 800000/pop\n",
    "alpha2 = 1600000/pop\n",
    "alpha3 = 900000/pop\n",
    "alpha4 = 8000000/pop\n",
    "alpha5 = 700000/pop\n",
    "\n",
    "gamma = 1/(7.0)\n",
    "beta_0 = 0*gamma # even like different from 0 it's the same\n",
    "beta_aug = 2.7*gamma\n",
    "print(beta_aug/gamma)\n",
    "print(beta_0/gamma)\n",
    "t_start = 0\n",
    "t_season = 60\n",
    "t_year = 365\n",
    "\n",
    "\n",
    "l1 = 1/(365*5)\n",
    "nu = alpha1*l1\n",
    "l2 = l1*alpha1/alpha2\n",
    "l3 = l2*alpha2/alpha3\n",
    "l4 = l3*alpha3/alpha4\n",
    "mu = l4*alpha4/alpha5\n",
    "\n",
    "print(nu/l1,alpha1)\n",
    "\n",
    "l_vec = np.array([l1,l2,l3,l4,0])\n",
    "mu_vec = np.array([0,0,0,0,mu])\n",
    "\n",
    "\n",
    "y0 = alpha1,alpha2,alpha3,(8000000-1)/pop,alpha5,0,0,0,1/pop,0,0,0,0,0,0,0,0,0,1/pop,0\n",
    "\n",
    "prop_imported = 0\n",
    "seasons = 40\n",
    "ret = solve_ivp(n_groups_seasonal_model_ivp, (0,365), y0, method = 'LSODA', args=(N, pop, nu, beta_0,beta_aug,t_start,t_season,t_year, gamma, mu_vec, l_vec), \n",
    "               t_eval = np.arange(0,365,1), max_step = 0.1)\n",
    "ret = ret['y'].T\n",
    "\n",
    "t_total = np.arange(0,365*seasons,1)\n",
    "t_season_single = np.arange(0,365,1)\n",
    "\n",
    "for season in np.arange(seasons):\n",
    "    ret = solve_ivp(n_groups_seasonal_model_ivp, (0,365), y0, method = 'LSODA', args=(N, pop, nu, beta_0,beta_aug,t_start,t_season,t_year, gamma, mu_vec, l_vec), \n",
    "               t_eval = np.arange(0,365,1), max_step = 0.1)\n",
    "    ret = ret['y'].T\n",
    "    y0 = ret[-1,:].copy()\n",
    "    y0 = modify_initial_condition(y0,prop_imported)\n",
    "    #print([x.sum() for x in np.split(y0[:15],3)])\n",
    "    plt.plot((t_season_single+season*365)/365,ret[:,N:2*N].sum(axis=1)*pop, label = season)\n",
    "    plt.scatter((season*365)/365,y0[N:2*N].sum())\n",
    "    alpha = np.array([alpha1,alpha2,alpha3,alpha4,alpha5])\n",
    "    print(100*ret[-1,2*N:3*N]/alpha)\n",
    "    if(season == 0):\n",
    "        plt.show()\n",
    "#plt.legend()\n",
    "plt.show()"
   ]
  },
  {
   "cell_type": "code",
   "execution_count": null,
   "id": "38c7f3bb",
   "metadata": {
    "scrolled": false
   },
   "outputs": [],
   "source": [
    "N = 5\n",
    "pop = 12000000\n",
    "#y0 = 800000/pop,1600000/pop,900000/pop,8000000/pop,700000/pop,0,0,0,0,0,0,0,0,0,0\n",
    "\n",
    "alpha1 = 800000/pop\n",
    "alpha2 = 1600000/pop\n",
    "alpha3 = 900000/pop\n",
    "alpha4 = 8000000/pop\n",
    "alpha5 = 700000/pop\n",
    "\n",
    "gamma = 1/(7.0)\n",
    "beta_0 = 0*gamma # even like different from 0 it's the same\n",
    "beta_aug = 2.7*gamma\n",
    "print(beta_aug/gamma)\n",
    "print(beta_0/gamma)\n",
    "t_start = 0\n",
    "t_season = 60\n",
    "t_year = 365\n",
    "\n",
    "\n",
    "l1 = 1/(365*5)\n",
    "nu = alpha1*l1\n",
    "l2 = l1*alpha1/alpha2\n",
    "l3 = l2*alpha2/alpha3\n",
    "l4 = l3*alpha3/alpha4\n",
    "mu = l4*alpha4/alpha5\n",
    "\n",
    "print(nu/l1,alpha1)\n",
    "\n",
    "l_vec = np.array([l1,l2,l3,l4,0])\n",
    "mu_vec = np.array([0,0,0,0,mu])\n",
    "\n",
    "\n",
    "y0 = alpha1,alpha2,alpha3,(8000000-1)/pop,alpha5,0,0,0,1/pop,0,0,0,0,0,0,0,0,0,1/pop,0\n",
    "\n",
    "prop_imported = 0\n",
    "seasons = 40\n",
    "ret = solve_ivp(n_groups_seasonal_model_ivp, (0,365), y0, method = 'LSODA', args=(N, pop, nu, beta_0,beta_aug,t_start,t_season,t_year, gamma, mu_vec, l_vec), \n",
    "               t_eval = np.arange(0,365,1), max_step = 0.1)\n",
    "ret = ret['y'].T\n",
    "\n",
    "t_total = np.arange(0,365*seasons,1)\n",
    "t_season_single = np.arange(0,365,1)\n",
    "\n",
    "for season in np.arange(seasons):\n",
    "    ret = solve_ivp(n_groups_seasonal_model_ivp, (0,365), y0, method = 'LSODA', args=(N, pop, nu, beta_0,beta_aug,t_start,t_season,t_year, gamma, mu_vec, l_vec), \n",
    "               t_eval = np.arange(0,365,1), max_step = 0.1)\n",
    "    ret = ret['y'].T\n",
    "    y0 = ret[-1,:].copy()\n",
    "    y0 = modify_initial_condition(y0,prop_imported)\n",
    "    inf_total = pop*(ret[1:,15:] - ret[:-1,15:]).sum(axis = 1).sum()\n",
    "    #print((ret[364,10:]*pop - ret[0,10:]*pop).sum())\n",
    "    prop_pop = np.array([alpha1,alpha2,alpha3,alpha4,alpha5])*pop*inf_total\n",
    "    plt.plot((pop/prop_pop)*(ret[1:,15:] - ret[:-1,15:]).sum(axis = 0), '-o', label = season)\n",
    "    plt.ylabel('Population Proportion')\n",
    "    plt.xlabel('Age group')\n",
    "    #plt.legend()\n",
    "plt.show()"
   ]
  },
  {
   "cell_type": "code",
   "execution_count": null,
   "id": "d2702c09",
   "metadata": {},
   "outputs": [],
   "source": [
    "N = 5\n",
    "pop = 12000000\n",
    "#y0 = 800000/pop,1600000/pop,900000/pop,8000000/pop,700000/pop,0,0,0,0,0,0,0,0,0,0\n",
    "\n",
    "alpha1 = 800000/pop\n",
    "alpha2 = 1600000/pop\n",
    "alpha3 = 900000/pop\n",
    "alpha4 = 8000000/pop\n",
    "alpha5 = 700000/pop\n",
    "\n",
    "gamma = 1/(7.0)\n",
    "beta_0 = 0*gamma # even like different from 0 it's the same\n",
    "beta_aug = 2.7*gamma\n",
    "print(beta_aug/gamma)\n",
    "print(beta_0/gamma)\n",
    "t_start = 0\n",
    "t_season = 60\n",
    "t_year = 365\n",
    "\n",
    "\n",
    "l1 = 1/(365*5)\n",
    "nu = alpha1*l1\n",
    "l2 = l1*alpha1/alpha2\n",
    "l3 = l2*alpha2/alpha3\n",
    "l4 = l3*alpha3/alpha4\n",
    "mu = l4*alpha4/alpha5\n",
    "\n",
    "print(nu/l1,alpha1)\n",
    "\n",
    "l_vec = np.array([l1,l2,l3,l4,0])\n",
    "mu_vec = np.array([0,0,0,0,mu])\n",
    "\n",
    "\n",
    "y0 = alpha1,alpha2,alpha3,(8000000-1)/pop,alpha5,0,0,0,1/pop,0,0,0,0,0,0,0,0,0,1/pop,0\n",
    "\n",
    "prop_imported = 0\n",
    "seasons = 40\n",
    "ret = solve_ivp(n_groups_seasonal_model_ivp, (0,365), y0, method = 'LSODA', args=(N, pop, nu, beta_0,beta_aug,t_start,t_season,t_year, gamma, mu_vec, l_vec), \n",
    "               t_eval = np.arange(0,365,1), max_step = 0.1)\n",
    "ret = ret['y'].T\n",
    "\n",
    "t_total = np.arange(0,365*seasons,1)\n",
    "t_season_single = np.arange(0,365,1)\n",
    "\n",
    "for season in np.arange(seasons):\n",
    "    ret = solve_ivp(n_groups_seasonal_model_ivp, (0,365), y0, method = 'LSODA', args=(N, pop, nu, beta_0,beta_aug,t_start,t_season,t_year, gamma, mu_vec, l_vec), \n",
    "               t_eval = np.arange(0,365,1), max_step = 0.1)\n",
    "    ret = ret['y'].T\n",
    "    y0 = ret[-1,:].copy()\n",
    "    y0 = modify_initial_condition(y0,prop_imported)\n",
    "    inf_total = pop*(ret[1:,15:] - ret[:-1,15:]).sum(axis = 1).sum()\n",
    "    #print((ret[364,10:]*pop - ret[0,10:]*pop).sum())\n",
    "    prop_pop = np.array([alpha1,alpha2,alpha3,alpha4,alpha5])*pop*inf_total\n",
    "    if(season == 4 or season == 30):\n",
    "        plt.plot((pop/prop_pop)*(ret[1:,15:] - ret[:-1,15:]).sum(axis = 0), '-o', label = season)\n",
    "        plt.ylabel('Population Proportion')\n",
    "        plt.xlabel('Age group')\n",
    "        plt.legend()\n",
    "plt.show()"
   ]
  },
  {
   "cell_type": "markdown",
   "id": "60cf6cba",
   "metadata": {},
   "source": [
    "## Attempt 5: seasonal transmission high season and low season + non-continuous + deterministic reintroductions\n",
    "- includes seasonal transmission, random reintroductions\n",
    "- high season wih an R0 of 2, low season of no transmission\n",
    "- purely seasonal disease driven by reintroductions\n",
    "- we run season by season and include an introduction"
   ]
  },
  {
   "cell_type": "code",
   "execution_count": null,
   "id": "9073de25",
   "metadata": {},
   "outputs": [],
   "source": [
    "N = 5\n",
    "pop = 12000000\n",
    "#y0 = 800000/pop,1600000/pop,900000/pop,8000000/pop,700000/pop,0,0,0,0,0,0,0,0,0,0\n",
    "\n",
    "alpha1 = 800000/pop\n",
    "alpha2 = 1600000/pop\n",
    "alpha3 = 900000/pop\n",
    "alpha4 = 8000000/pop\n",
    "alpha5 = 700000/pop\n",
    "\n",
    "gamma = 1/(7.0)\n",
    "beta_0 = 0.0*gamma # even like different from 0 it's the same\n",
    "beta_aug = 2.7*gamma\n",
    "print(beta_aug/gamma)\n",
    "print(beta_0/gamma)\n",
    "t_start = 0\n",
    "t_season = 60\n",
    "t_year = 365\n",
    "\n",
    "\n",
    "l1 = 1/(365*5)\n",
    "nu = alpha1*l1\n",
    "l2 = l1*alpha1/alpha2\n",
    "l3 = l2*alpha2/alpha3\n",
    "l4 = l3*alpha3/alpha4\n",
    "mu = l4*alpha4/alpha5\n",
    "\n",
    "print(nu/l1,alpha1)\n",
    "\n",
    "l_vec = np.array([l1,l2,l3,l4,0])\n",
    "mu_vec = np.array([0,0,0,0,mu])\n",
    "\n",
    "\n",
    "t_total = np.linspace(0, 365*1, 10000)\n",
    "\n",
    "y0 = alpha1,alpha2,alpha3,(8000000-1)/pop,alpha5,0,0,0,1/pop,0,0,0,0,0,0,0,0,0,1/pop,0\n",
    "\n",
    "prop_imported = 0\n",
    "ret = odeint(n_groups_seasonal_model, y0, t_total, args=(N, pop, nu, beta_0,beta_aug,t_start,t_season,t_year, gamma, mu_vec, l_vec))\n",
    "\n",
    "seasons = 40\n",
    "t_total = np.arange(0,365*seasons,1)\n",
    "t_season_single = np.arange(0,365,1)\n",
    "\n",
    "for season in np.arange(seasons):\n",
    "    ret = odeint(n_groups_seasonal_model, y0, t_season_single, args=(N, pop, nu, beta_0,beta_aug,t_start,t_season,t_year, gamma, mu_vec, l_vec))\n",
    "    y0 = ret[-1,:].copy()\n",
    "    y0 = modify_initial_condition(y0,prop_imported)\n",
    "    plt.plot((t_season_single+season*365)/365,ret[:,N:2*N].sum(axis=1)*pop, label = season)\n",
    "    plt.scatter((season*365)/365,y0[N:2*N].sum())\n",
    "    if(season == 0):\n",
    "        plt.show()\n",
    "#plt.legend()\n",
    "plt.show()"
   ]
  },
  {
   "cell_type": "code",
   "execution_count": null,
   "id": "da1c85ac",
   "metadata": {},
   "outputs": [],
   "source": [
    "N = 5\n",
    "pop = 12000000\n",
    "#y0 = 800000/pop,1600000/pop,900000/pop,8000000/pop,700000/pop,0,0,0,0,0,0,0,0,0,0\n",
    "\n",
    "alpha1 = 800000/pop\n",
    "alpha2 = 1600000/pop\n",
    "alpha3 = 900000/pop\n",
    "alpha4 = 8000000/pop\n",
    "alpha5 = 700000/pop\n",
    "\n",
    "gamma = 1/(7.0)\n",
    "beta_0 = 0.8*gamma # even like different from 0 it's the same\n",
    "beta_aug = 2.6*gamma\n",
    "#print(beta_aug/gamma)\n",
    "#print(beta_0/gamma)\n",
    "t_start = 0\n",
    "t_season = 60\n",
    "t_year = 365\n",
    "\n",
    "\n",
    "l1 = 1/(365*5)\n",
    "nu = alpha1*l1\n",
    "l2 = l1*alpha1/alpha2\n",
    "l3 = l2*alpha2/alpha3\n",
    "l4 = l3*alpha3/alpha4\n",
    "mu = l4*alpha4/alpha5\n",
    "\n",
    "#print(nu/l1,alpha1)\n",
    "\n",
    "l_vec = np.array([l1,l2,l3,l4,0])\n",
    "mu_vec = np.array([0,0,0,0,mu])\n",
    "\n",
    "\n",
    "\n",
    "y0 = alpha1,alpha2,alpha3,(8000000-1)/pop,alpha5,0,0,0,1/pop,0,0,0,0,0,0,0,0,0,1/pop,0\n",
    "\n",
    "t_total = np.linspace(0, 365*1, 10000)\n",
    "\n",
    "ret = odeint(n_groups_seasonal_model, y0, t_total, args=(N, pop, nu, beta_0,beta_aug,t_start,t_season,t_year, gamma, mu_vec, l_vec))\n",
    "\n",
    "seasons = 50\n",
    "prop_imported = 0.00001\n",
    "t_total = np.arange(0,365*seasons,1)\n",
    "t_season_single = np.arange(0,365,1)\n",
    "\n",
    "for season in np.arange(seasons):\n",
    "    ret = odeint(n_groups_seasonal_model, y0, t_season_single, args=(N, pop, nu, beta_0,beta_aug,t_start,t_season,t_year, gamma, mu_vec, l_vec))\n",
    "    y0 = ret[-1,:].copy()\n",
    "    y0 = modify_initial_condition(y0,prop_imported)\n",
    "    inf_total = pop*(ret[1:,15:] - ret[:-1,15:]).sum(axis = 1).sum()\n",
    "    #print((ret[364,10:]*pop - ret[0,10:]*pop).sum())\n",
    "    prop_pop = np.array([alpha1,alpha2,alpha3,alpha4,alpha5])*pop*inf_total\n",
    "    plt.plot((pop/prop_pop)*(ret[1:,15:] - ret[:-1,15:]).sum(axis = 0), '-o', label = season)\n",
    "    plt.ylabel('Population Proportion')\n",
    "    plt.xlabel('Age group')\n",
    "    #plt.legend()\n",
    "plt.show()"
   ]
  },
  {
   "cell_type": "code",
   "execution_count": null,
   "id": "9f698fd0",
   "metadata": {},
   "outputs": [],
   "source": [
    "N = 5\n",
    "pop = 12000000\n",
    "#y0 = 800000/pop,1600000/pop,900000/pop,8000000/pop,700000/pop,0,0,0,0,0,0,0,0,0,0\n",
    "\n",
    "alpha1 = 800000/pop\n",
    "alpha2 = 1600000/pop\n",
    "alpha3 = 900000/pop\n",
    "alpha4 = 8000000/pop\n",
    "alpha5 = 700000/pop\n",
    "\n",
    "gamma = 1/(7.0)\n",
    "beta_0 = 0.8*gamma # even like different from 0 it's the same\n",
    "beta_aug = 2.6*gamma\n",
    "#print(beta_aug/gamma)\n",
    "#print(beta_0/gamma)\n",
    "t_start = 0\n",
    "t_season = 60\n",
    "t_year = 365\n",
    "\n",
    "\n",
    "l1 = 1/(365*5)\n",
    "nu = alpha1*l1\n",
    "l2 = l1*alpha1/alpha2\n",
    "l3 = l2*alpha2/alpha3\n",
    "l4 = l3*alpha3/alpha4\n",
    "mu = l4*alpha4/alpha5\n",
    "\n",
    "#print(nu/l1,alpha1)\n",
    "\n",
    "l_vec = np.array([l1,l2,l3,l4,0])\n",
    "mu_vec = np.array([0,0,0,0,mu])\n",
    "\n",
    "\n",
    "\n",
    "y0 = alpha1,alpha2,alpha3,(8000000-1)/pop,alpha5,0,0,0,1/pop,0,0,0,0,0,0,0,0,0,1/pop,0\n",
    "\n",
    "t_total = np.linspace(0, 365*1, 10000)\n",
    "\n",
    "ret = odeint(n_groups_seasonal_model, y0, t_total, args=(N, pop, nu, beta_0,beta_aug,t_start,t_season,t_year, gamma, mu_vec, l_vec))\n",
    "\n",
    "seasons = 50\n",
    "prop_imported = 0.00001\n",
    "t_total = np.arange(0,365*seasons,1)\n",
    "t_season_single = np.arange(0,365,1)\n",
    "\n",
    "for season in np.arange(seasons):\n",
    "    ret = odeint(n_groups_seasonal_model, y0, t_season_single, args=(N, pop, nu, beta_0,beta_aug,t_start,t_season,t_year, gamma, mu_vec, l_vec))\n",
    "    y0 = ret[-1,:].copy()\n",
    "    y0 = modify_initial_condition(y0,prop_imported)\n",
    "    inf_total = pop*(ret[1:,15:] - ret[:-1,15:]).sum(axis = 1).sum()\n",
    "    #print((ret[364,10:]*pop - ret[0,10:]*pop).sum())\n",
    "    if(season == 4 or season == 30):\n",
    "        prop_pop = np.array([alpha1,alpha2,alpha3,alpha4,alpha5])*pop*inf_total\n",
    "        plt.plot((pop/prop_pop)*(ret[1:,15:] - ret[:-1,15:]).sum(axis = 0), '-o', label = season)\n",
    "        plt.ylabel('Population Proportion')\n",
    "        plt.xlabel('Age group')\n",
    "        plt.legend()\n",
    "plt.show()"
   ]
  },
  {
   "cell_type": "markdown",
   "id": "82544e9c",
   "metadata": {},
   "source": [
    "## Attempt 6: seasonal transmission high season and low season + non-continuous + deterministic reintroductions on adults\n",
    "- includes seasonal transmission, random reintroductions\n",
    "- high season wih an R0 of 2, low season of no transmission\n",
    "- purely seasonal disease driven by reintroductions\n",
    "- we run season by season and include an introduction"
   ]
  },
  {
   "cell_type": "code",
   "execution_count": null,
   "id": "8389115e",
   "metadata": {},
   "outputs": [],
   "source": [
    "N = 5\n",
    "pop = 12000000\n",
    "#y0 = 800000/pop,1600000/pop,900000/pop,8000000/pop,700000/pop,0,0,0,0,0,0,0,0,0,0\n",
    "\n",
    "alpha1 = 800000/pop\n",
    "alpha2 = 1600000/pop\n",
    "alpha3 = 900000/pop\n",
    "alpha4 = 8000000/pop\n",
    "alpha5 = 700000/pop\n",
    "\n",
    "gamma = 1/(7.0)\n",
    "beta_0 = 0.8*gamma # even like different from 0 it's the same\n",
    "beta_aug = 2*gamma\n",
    "print(beta_aug/gamma)\n",
    "print(beta_0/gamma)\n",
    "t_start = 0\n",
    "t_season = 60\n",
    "t_year = 365\n",
    "\n",
    "\n",
    "l1 = 1/(365*5)\n",
    "nu = alpha1*l1\n",
    "l2 = l1*alpha1/alpha2\n",
    "l3 = l2*alpha2/alpha3\n",
    "l4 = l3*alpha3/alpha4\n",
    "mu = l4*alpha4/alpha5\n",
    "\n",
    "print(nu/l1,alpha1)\n",
    "\n",
    "l_vec = np.array([l1,l2,l3,l4,0])\n",
    "mu_vec = np.array([0,0,0,0,mu])\n",
    "\n",
    "\n",
    "t_total = np.linspace(0, 365*10, 10000)\n",
    "\n",
    "y0 = alpha1,alpha2,alpha3,(8000000-1)/pop,alpha5,0,0,0,1/pop,0,0,0,0,0,0,0,0,0,1/pop,0\n",
    "\n",
    "prop_imported = 0\n",
    "ret = odeint(n_groups_seasonal_model, y0, t_total, args=(N, pop, nu, beta_0,beta_aug,t_start,t_season,t_year, gamma, mu_vec, l_vec))\n",
    "\n",
    "seasons = 30\n",
    "t_total = np.arange(0,365*seasons,1)\n",
    "t_season_single = np.arange(0,365,1)\n",
    "\n",
    "for season in np.arange(seasons):\n",
    "    ret = odeint(n_groups_seasonal_model, y0, t_season_single, args=(N, pop, nu, beta_0,beta_aug,t_start,t_season,t_year, gamma, mu_vec, l_vec))\n",
    "    y0 = ret[-1,:].copy()\n",
    "    y0 = modify_initial_condition_2(y0,prop_imported)\n",
    "    plt.plot((t_season_single+season*365)/365,ret[:,N:2*N].sum(axis=1)*pop, label = season)\n",
    "    plt.scatter((season*365)/365,y0[N:2*N].sum())\n",
    "    if(season == 0):\n",
    "        plt.show()\n",
    "#plt.legend()\n",
    "plt.show()"
   ]
  },
  {
   "cell_type": "code",
   "execution_count": null,
   "id": "ec5d3aeb",
   "metadata": {},
   "outputs": [],
   "source": [
    "N = 5\n",
    "pop = 12000000\n",
    "#y0 = 800000/pop,1600000/pop,900000/pop,8000000/pop,700000/pop,0,0,0,0,0,0,0,0,0,0\n",
    "\n",
    "alpha1 = 800000/pop\n",
    "alpha2 = 1600000/pop\n",
    "alpha3 = 900000/pop\n",
    "alpha4 = 8000000/pop\n",
    "alpha5 = 700000/pop\n",
    "\n",
    "gamma = 1/(7.0)\n",
    "beta_0 = 0.8*gamma # even like different from 0 it's the same\n",
    "beta_aug = 2*gamma\n",
    "#print(beta_aug/gamma)\n",
    "#print(beta_0/gamma)\n",
    "t_start = 0\n",
    "t_season = 60\n",
    "t_year = 365\n",
    "\n",
    "\n",
    "l1 = 1/(365*5)\n",
    "nu = alpha1*l1\n",
    "l2 = l1*alpha1/alpha2\n",
    "l3 = l2*alpha2/alpha3\n",
    "l4 = l3*alpha3/alpha4\n",
    "mu = l4*alpha4/alpha5\n",
    "\n",
    "#print(nu/l1,alpha1)\n",
    "\n",
    "l_vec = np.array([l1,l2,l3,l4,0])\n",
    "mu_vec = np.array([0,0,0,0,mu])\n",
    "\n",
    "\n",
    "\n",
    "y0 = alpha1,alpha2,alpha3,(8000000-1)/pop,alpha5,0,0,0,1/pop,0,0,0,0,0,0,0,0,0,1/pop,0\n",
    "\n",
    "ret = odeint(n_groups_seasonal_model, y0, t_total, args=(N, pop, nu, beta_0,beta_aug,t_start,t_season,t_year, gamma, mu_vec, l_vec))\n",
    "\n",
    "seasons = 30\n",
    "prop_imported = 0.00001\n",
    "t_total = np.arange(0,365*seasons,1)\n",
    "t_season_single = np.arange(0,365,1)\n",
    "\n",
    "for season in np.arange(seasons):\n",
    "    ret = odeint(n_groups_seasonal_model, y0, t_season_single, args=(N, pop, nu, beta_0,beta_aug,t_start,t_season,t_year, gamma, mu_vec, l_vec))\n",
    "    y0 = ret[-1,:].copy()\n",
    "    y0 = modify_initial_condition_2(y0,prop_imported)\n",
    "    inf_total = pop*(ret[1:,15:] - ret[:-1,15:]).sum(axis = 1).sum()\n",
    "    #print((ret[364,10:]*pop - ret[0,10:]*pop).sum())\n",
    "    prop_pop = np.array([alpha1,alpha2,alpha3,alpha4,alpha5])*pop*inf_total\n",
    "    plt.plot((pop/prop_pop)*(ret[1:,15:] - ret[:-1,15:]).sum(axis = 0), '-o', label = season)\n",
    "    plt.ylabel('Population Proportion')\n",
    "    plt.xlabel('Age group')\n",
    "    #plt.legend()\n",
    "plt.show()"
   ]
  },
  {
   "cell_type": "markdown",
   "id": "31eaf152",
   "metadata": {},
   "source": [
    "## Attempt 7: seasonal transmission high stochastic season and low season + non-continuous + deterministic reintroductions\n",
    "- includes seasonal transmission, random reintroductions\n",
    "- high season wih an stochastic R0 of 2, low season of no transmission\n",
    "- purely seasonal disease driven by reintroductions\n",
    "- we run season by season and include an introduction"
   ]
  },
  {
   "cell_type": "code",
   "execution_count": null,
   "id": "4b34d8b6",
   "metadata": {},
   "outputs": [],
   "source": [
    "np.random.seed(123)\n",
    "N = 5\n",
    "pop = 12000000\n",
    "#y0 = 800000/pop,1600000/pop,900000/pop,8000000/pop,700000/pop,0,0,0,0,0,0,0,0,0,0\n",
    "\n",
    "alpha1 = 800000/pop\n",
    "alpha2 = 1600000/pop\n",
    "alpha3 = 900000/pop\n",
    "alpha4 = 8000000/pop\n",
    "alpha5 = 700000/pop\n",
    "\n",
    "gamma = 1/(7.0)\n",
    "beta_0 = 0.0*gamma # even like different from 0 it's the same\n",
    "t_start = 0\n",
    "t_season = 60\n",
    "t_year = 365\n",
    "\n",
    "\n",
    "l1 = 1/(365*5)\n",
    "nu = alpha1*l1\n",
    "l2 = l1*alpha1/alpha2\n",
    "l3 = l2*alpha2/alpha3\n",
    "l4 = l3*alpha3/alpha4\n",
    "mu = l4*alpha4/alpha5\n",
    "\n",
    "#print(nu/l1,alpha1)\n",
    "\n",
    "l_vec = np.array([l1,l2,l3,l4,0])\n",
    "mu_vec = np.array([0,0,0,0,mu])\n",
    "\n",
    "\n",
    "t_total = np.linspace(0, 365*10, 10000)\n",
    "\n",
    "beta_aug = 2.7*gamma\n",
    "y0 = alpha1,alpha2,alpha3,(8000000-1)/pop,alpha5,0,0,0,1/pop,0,0,0,0,0,0,0,0,0,1/pop,0\n",
    "\n",
    "prop_imported = 0\n",
    "ret = odeint(n_groups_seasonal_model, y0, t_total, args=(N, pop, nu, beta_0,beta_aug,t_start,t_season,t_year, gamma, mu_vec, l_vec))\n",
    "\n",
    "seasons = 30\n",
    "t_total = np.arange(0,365*seasons,1)\n",
    "t_season_single = np.arange(0,365,1)\n",
    "beta_max.append(beta_aug)\n",
    "\n",
    "for season in np.arange(seasons):\n",
    "    beta_aug = np.random.uniform(1,3)*gamma\n",
    "    beta_max.append(beta_aug)\n",
    "    ret = odeint(n_groups_seasonal_model, y0, t_season_single, args=(N, pop, nu, beta_0,beta_aug,t_start,t_season,t_year, gamma, mu_vec, l_vec))\n",
    "    y0 = ret[-1,:].copy()\n",
    "    y0 = modify_initial_condition_2(y0,prop_imported)\n",
    "    plt.plot((t_season_single+season*365)/365,ret[:,N:2*N].sum(axis=1)*pop, label = season)\n",
    "    plt.scatter((season*365)/365,y0[N:2*N].sum())\n",
    "    if(season == 0):\n",
    "        plt.show()\n",
    "    \n",
    "#plt.legend()\n",
    "plt.show()"
   ]
  },
  {
   "cell_type": "code",
   "execution_count": null,
   "id": "d1c9e84e",
   "metadata": {},
   "outputs": [],
   "source": [
    "np.random.seed(123)\n",
    "N = 5\n",
    "pop = 12000000\n",
    "#y0 = 800000/pop,1600000/pop,900000/pop,8000000/pop,700000/pop,0,0,0,0,0,0,0,0,0,0\n",
    "\n",
    "alpha1 = 800000/pop\n",
    "alpha2 = 1600000/pop\n",
    "alpha3 = 900000/pop\n",
    "alpha4 = 8000000/pop\n",
    "alpha5 = 700000/pop\n",
    "\n",
    "gamma = 1/(7.0)\n",
    "beta_0 = 0.0*gamma # even like different from 0 it's the same\n",
    "beta_aug = 2.7*gamma\n",
    "#print(beta_aug/gamma)\n",
    "#print(beta_0/gamma)\n",
    "t_start = 0\n",
    "t_season = 60\n",
    "t_year = 365\n",
    "\n",
    "\n",
    "l1 = 1/(365*5)\n",
    "nu = alpha1*l1\n",
    "l2 = l1*alpha1/alpha2\n",
    "l3 = l2*alpha2/alpha3\n",
    "l4 = l3*alpha3/alpha4\n",
    "mu = l4*alpha4/alpha5\n",
    "\n",
    "#print(nu/l1,alpha1)\n",
    "\n",
    "l_vec = np.array([l1,l2,l3,l4,0])\n",
    "mu_vec = np.array([0,0,0,0,mu])\n",
    "\n",
    "beta_max = []\n",
    "\n",
    "y0 = alpha1,alpha2,alpha3,(8000000-1)/pop,alpha5,0,0,0,1/pop,0,0,0,0,0,0,0,0,0,1/pop,0\n",
    "\n",
    "ret = odeint(n_groups_seasonal_model, y0, t_total, args=(N, pop, nu, beta_0,beta_aug,t_start,t_season,t_year, gamma, mu_vec, l_vec))\n",
    "\n",
    "seasons = 30\n",
    "prop_imported = 0.00001\n",
    "t_total = np.arange(0,365*seasons,1)\n",
    "t_season_single = np.arange(0,365,1)\n",
    "beta_max.append(beta_aug)\n",
    "\n",
    "for season in np.arange(seasons):\n",
    "    beta_aug = np.random.uniform(1,3)*gamma\n",
    "    beta_max.append(beta_aug)\n",
    "    ret = odeint(n_groups_seasonal_model, y0, t_season_single, args=(N, pop, nu, beta_0,beta_aug,t_start,t_season,t_year, gamma, mu_vec, l_vec))\n",
    "    y0 = ret[-1,:].copy()\n",
    "    y0 = modify_initial_condition_2(y0,prop_imported)\n",
    "    inf_total = pop*(ret[1:,15:] - ret[:-1,15:]).sum(axis = 1).sum()\n",
    "    #print((ret[364,10:]*pop - ret[0,10:]*pop).sum())\n",
    "    prop_pop = np.array([alpha1,alpha2,alpha3,alpha4,alpha5])*pop*inf_total\n",
    "    plt.plot((pop/prop_pop)*(ret[1:,15:] - ret[:-1,15:]).sum(axis = 0), '-o', label = season)\n",
    "    plt.ylabel('Population Proportion')\n",
    "    plt.xlabel('Age group')\n",
    "    #plt.legend()\n",
    "plt.show()"
   ]
  },
  {
   "cell_type": "code",
   "execution_count": null,
   "id": "c7ba0248",
   "metadata": {},
   "outputs": [],
   "source": [
    "plt.plot(np.array(beta_max)/gamma, '-o')"
   ]
  }
 ],
 "metadata": {
  "kernelspec": {
   "display_name": "Python 3 (ipykernel)",
   "language": "python",
   "name": "python3"
  },
  "language_info": {
   "codemirror_mode": {
    "name": "ipython",
    "version": 3
   },
   "file_extension": ".py",
   "mimetype": "text/x-python",
   "name": "python",
   "nbconvert_exporter": "python",
   "pygments_lexer": "ipython3",
   "version": "3.8.16"
  }
 },
 "nbformat": 4,
 "nbformat_minor": 5
}

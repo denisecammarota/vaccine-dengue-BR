{
 "cells": [
  {
   "cell_type": "markdown",
   "id": "9e462fdd",
   "metadata": {},
   "source": [
    "# Basic Model Dengue Vaccination\n",
    "\n",
    "## Description of the model\n",
    "\n",
    "- 5 age groups: infants, children, adolescents, adults and the elderly\n",
    "- born infants, died as elderly (only birth in the first group, only death as the elderly), other mortality is negligible\n",
    "- considering that mortality from dengue is negligible\n",
    "- considering high and no transmission seasons\n",
    "- high season of 3 months, the rest is low or no transmission\n",
    "- considering random introductions throughout the years, random initial 'spark'"
   ]
  },
  {
   "cell_type": "code",
   "execution_count": 1,
   "id": "34feb225",
   "metadata": {},
   "outputs": [],
   "source": [
    "import numpy as np\n",
    "import matplotlib.pyplot as plt\n",
    "from scipy.integrate import odeint\n",
    "np.random.seed(123)"
   ]
  },
  {
   "cell_type": "markdown",
   "id": "191e4ec1",
   "metadata": {},
   "source": [
    "## Attempt 1: no transmission\n",
    "\n",
    "- Checking how the population behaves under our parametrization \n",
    "- No transmission, just the populational model"
   ]
  },
  {
   "cell_type": "code",
   "execution_count": 2,
   "id": "e6b314d2",
   "metadata": {},
   "outputs": [],
   "source": [
    "def n_groups_model(y, t, N, pop, beta, gamma, mu_vec, l_vec):\n",
    "    # N is number of age groups \n",
    "    S = y[0:N]\n",
    "    I = y[N:2*N]\n",
    "    R = y[2*N:3*N]\n",
    "    IT = sum(I) #total infected\n",
    "    S = np.append(S,0)\n",
    "    I = np.append(I,0)\n",
    "    R = np.append(R,0)\n",
    "    S = np.append(0,S)\n",
    "    I = np.append(0,I)\n",
    "    R = np.append(0,R)\n",
    "    l_vec_2 = np.append(0,l_vec)\n",
    "    l_vec_2 = l_vec_2[:-1]\n",
    "    dSdt = -beta*S[1:-1]*IT - mu_vec*S[1:-1] - l_vec*S[1:-1] + l_vec_2*S[:-2]\n",
    "    dIdt =  beta*S[1:-1]*IT - gamma*I[1:-1] - mu_vec*I[1:-1] - l_vec*I[1:-1] + l_vec_2*I[:-2]\n",
    "    dRdt =  gamma*I[1:-1] - mu_vec*R[1:-1] - l_vec*R[1:-1] + l_vec_2*R[:-2]\n",
    "    dSdt[0] = dSdt[0] + nu\n",
    "    return np.array([dSdt, dIdt, dRdt]).flatten()"
   ]
  },
  {
   "cell_type": "code",
   "execution_count": 3,
   "id": "f380fda6",
   "metadata": {},
   "outputs": [
    {
     "name": "stdout",
     "output_type": "stream",
     "text": [
      "0.06666666666666665 0.06666666666666667\n"
     ]
    }
   ],
   "source": [
    "N = 5\n",
    "pop = 12000000\n",
    "y0 = 800000/pop,1600000/pop,900000/pop,8000000/pop,700000/pop,0,0,0,0,0,0,0,0,0,0\n",
    "\n",
    "alpha1 = 800000/pop\n",
    "alpha2 = 1600000/pop\n",
    "alpha3 = 900000/pop\n",
    "alpha4 = 8000000/pop\n",
    "alpha5 = 700000/pop\n",
    "\n",
    "beta = 0\n",
    "gamma = 1/(7.0)\n",
    "\n",
    "nu = 100000/365 # 100k nascimentos por dia\n",
    "l1 = nu/alpha1\n",
    "l2 = l1*alpha1/alpha2\n",
    "l3 = l2*alpha2/alpha3\n",
    "l4 = l3*alpha3/alpha4\n",
    "mu = l4*alpha4/alpha5\n",
    "\n",
    "print(nu/l1,alpha1)\n",
    "\n",
    "l_vec = np.array([l1,l2,l3,l4,0])\n",
    "mu_vec = np.array([0,0,0,0,mu])\n",
    "\n",
    "\n",
    "t_total = np.linspace(0, 365, 365)\n",
    "\n",
    "y0 = alpha1,alpha2,alpha3,alpha4,alpha5,0,0,0,0,0,0,0,0,0,0\n",
    "\n",
    "ret = odeint(n_groups_model, y0, t_total, args=(N, pop, beta, gamma, mu_vec, l_vec))"
   ]
  },
  {
   "cell_type": "code",
   "execution_count": 4,
   "id": "f9d79a58",
   "metadata": {},
   "outputs": [
    {
     "data": {
      "text/plain": [
       "array([[0.06666667, 0.13333333, 0.075     , ..., 0.        , 0.        ,\n",
       "        0.        ],\n",
       "       [0.06666667, 0.13333333, 0.075     , ..., 0.        , 0.        ,\n",
       "        0.        ],\n",
       "       [0.06666667, 0.13333333, 0.075     , ..., 0.        , 0.        ,\n",
       "        0.        ],\n",
       "       ...,\n",
       "       [0.06666667, 0.13333333, 0.075     , ..., 0.        , 0.        ,\n",
       "        0.        ],\n",
       "       [0.06666667, 0.13333333, 0.075     , ..., 0.        , 0.        ,\n",
       "        0.        ],\n",
       "       [0.06666667, 0.13333333, 0.075     , ..., 0.        , 0.        ,\n",
       "        0.        ]])"
      ]
     },
     "execution_count": 4,
     "metadata": {},
     "output_type": "execute_result"
    }
   ],
   "source": [
    "ret"
   ]
  },
  {
   "cell_type": "code",
   "execution_count": 5,
   "id": "7c60002c",
   "metadata": {},
   "outputs": [
    {
     "data": {
      "text/plain": [
       "array([1., 1., 1., 1., 1., 1., 1., 1., 1., 1., 1., 1., 1., 1., 1., 1., 1.,\n",
       "       1., 1., 1., 1., 1., 1., 1., 1., 1., 1., 1., 1., 1., 1., 1., 1., 1.,\n",
       "       1., 1., 1., 1., 1., 1., 1., 1., 1., 1., 1., 1., 1., 1., 1., 1., 1.,\n",
       "       1., 1., 1., 1., 1., 1., 1., 1., 1., 1., 1., 1., 1., 1., 1., 1., 1.,\n",
       "       1., 1., 1., 1., 1., 1., 1., 1., 1., 1., 1., 1., 1., 1., 1., 1., 1.,\n",
       "       1., 1., 1., 1., 1., 1., 1., 1., 1., 1., 1., 1., 1., 1., 1., 1., 1.,\n",
       "       1., 1., 1., 1., 1., 1., 1., 1., 1., 1., 1., 1., 1., 1., 1., 1., 1.,\n",
       "       1., 1., 1., 1., 1., 1., 1., 1., 1., 1., 1., 1., 1., 1., 1., 1., 1.,\n",
       "       1., 1., 1., 1., 1., 1., 1., 1., 1., 1., 1., 1., 1., 1., 1., 1., 1.,\n",
       "       1., 1., 1., 1., 1., 1., 1., 1., 1., 1., 1., 1., 1., 1., 1., 1., 1.,\n",
       "       1., 1., 1., 1., 1., 1., 1., 1., 1., 1., 1., 1., 1., 1., 1., 1., 1.,\n",
       "       1., 1., 1., 1., 1., 1., 1., 1., 1., 1., 1., 1., 1., 1., 1., 1., 1.,\n",
       "       1., 1., 1., 1., 1., 1., 1., 1., 1., 1., 1., 1., 1., 1., 1., 1., 1.,\n",
       "       1., 1., 1., 1., 1., 1., 1., 1., 1., 1., 1., 1., 1., 1., 1., 1., 1.,\n",
       "       1., 1., 1., 1., 1., 1., 1., 1., 1., 1., 1., 1., 1., 1., 1., 1., 1.,\n",
       "       1., 1., 1., 1., 1., 1., 1., 1., 1., 1., 1., 1., 1., 1., 1., 1., 1.,\n",
       "       1., 1., 1., 1., 1., 1., 1., 1., 1., 1., 1., 1., 1., 1., 1., 1., 1.,\n",
       "       1., 1., 1., 1., 1., 1., 1., 1., 1., 1., 1., 1., 1., 1., 1., 1., 1.,\n",
       "       1., 1., 1., 1., 1., 1., 1., 1., 1., 1., 1., 1., 1., 1., 1., 1., 1.,\n",
       "       1., 1., 1., 1., 1., 1., 1., 1., 1., 1., 1., 1., 1., 1., 1., 1., 1.,\n",
       "       1., 1., 1., 1., 1., 1., 1., 1., 1., 1., 1., 1., 1., 1., 1., 1., 1.,\n",
       "       1., 1., 1., 1., 1., 1., 1., 1.])"
      ]
     },
     "execution_count": 5,
     "metadata": {},
     "output_type": "execute_result"
    }
   ],
   "source": [
    "ret[:,0:5].sum(axis = 1)"
   ]
  },
  {
   "cell_type": "code",
   "execution_count": 6,
   "id": "882870c3",
   "metadata": {},
   "outputs": [
    {
     "data": {
      "text/plain": [
       "[<matplotlib.lines.Line2D at 0x119a88fdfa0>,\n",
       " <matplotlib.lines.Line2D at 0x119a8912040>,\n",
       " <matplotlib.lines.Line2D at 0x119a8912070>,\n",
       " <matplotlib.lines.Line2D at 0x119a8912160>,\n",
       " <matplotlib.lines.Line2D at 0x119a8912250>]"
      ]
     },
     "execution_count": 6,
     "metadata": {},
     "output_type": "execute_result"
    },
    {
     "data": {
      "image/png": "[encoded data removed]",
      "text/plain": [
       "<Figure size 640x480 with 1 Axes>"
      ]
     },
     "metadata": {},
     "output_type": "display_data"
    }
   ],
   "source": [
    "plt.plot(t_total/365,ret[:,0:5])"
   ]
  },
  {
   "cell_type": "markdown",
   "id": "6b247dd9",
   "metadata": {},
   "source": [
    "## Attempt 2: no seasonal transmission\n",
    "\n",
    "- No seasonal transmission, constant beta\n",
    "- Initial condition in adults"
   ]
  },
  {
   "cell_type": "code",
   "execution_count": 7,
   "id": "c0b09637",
   "metadata": {},
   "outputs": [
    {
     "name": "stdout",
     "output_type": "stream",
     "text": [
      "2.0\n",
      "0.06666666666666667 0.06666666666666667\n"
     ]
    }
   ],
   "source": [
    "N = 5\n",
    "pop = 12000000\n",
    "#y0 = 800000/pop,1600000/pop,900000/pop,8000000/pop,700000/pop,0,0,0,0,0,0,0,0,0,0\n",
    "\n",
    "alpha1 = 800000/pop\n",
    "alpha2 = 1600000/pop\n",
    "alpha3 = 900000/pop\n",
    "alpha4 = 8000000/pop\n",
    "alpha5 = 700000/pop\n",
    "\n",
    "gamma = 1/(7.0)\n",
    "beta = 2*gamma\n",
    "print(beta/gamma)\n",
    "\n",
    "\n",
    "l1 = 1/(365*5)\n",
    "nu = alpha1*l1\n",
    "l2 = l1*alpha1/alpha2\n",
    "l3 = l2*alpha2/alpha3\n",
    "l4 = l3*alpha3/alpha4\n",
    "mu = l4*alpha4/alpha5\n",
    "\n",
    "print(nu/l1,alpha1)\n",
    "\n",
    "l_vec = np.array([l1,l2,l3,l4,0])\n",
    "mu_vec = np.array([0,0,0,0,mu])\n",
    "\n",
    "\n",
    "t_total = np.linspace(0, 365*10, 10000)\n",
    "\n",
    "y0 = alpha1,alpha2,alpha3,(8000000-10)/pop,alpha5,0,0,0,10/pop,0,0,0,0,0,0\n",
    "\n",
    "ret = odeint(n_groups_model, y0, t_total, args=(N, pop, beta, gamma, mu_vec, l_vec))"
   ]
  },
  {
   "cell_type": "code",
   "execution_count": 8,
   "id": "4f6e5861",
   "metadata": {},
   "outputs": [
    {
     "data": {
      "text/plain": [
       "array([5.47945205e-04, 2.73972603e-04, 4.87062405e-04, 5.47945205e-05,\n",
       "       0.00000000e+00])"
      ]
     },
     "execution_count": 8,
     "metadata": {},
     "output_type": "execute_result"
    }
   ],
   "source": [
    "l_vec"
   ]
  },
  {
   "cell_type": "code",
   "execution_count": 9,
   "id": "9e1abe90",
   "metadata": {},
   "outputs": [
    {
     "data": {
      "text/plain": [
       "array([ 5.   , 10.   ,  5.625, 50.   ])"
      ]
     },
     "execution_count": 9,
     "metadata": {},
     "output_type": "execute_result"
    }
   ],
   "source": [
    "1/l_vec[:-1]/365"
   ]
  },
  {
   "cell_type": "code",
   "execution_count": 10,
   "id": "2601b01f",
   "metadata": {},
   "outputs": [
    {
     "data": {
      "text/plain": [
       "(0.06666666666666667,\n",
       " 0.13333333333333333,\n",
       " 0.075,\n",
       " 0.6666658333333333,\n",
       " 0.058333333333333334,\n",
       " 0,\n",
       " 0,\n",
       " 0,\n",
       " 8.333333333333333e-07,\n",
       " 0,\n",
       " 0,\n",
       " 0,\n",
       " 0,\n",
       " 0,\n",
       " 0)"
      ]
     },
     "execution_count": 10,
     "metadata": {},
     "output_type": "execute_result"
    }
   ],
   "source": [
    "y0"
   ]
  },
  {
   "cell_type": "code",
   "execution_count": 11,
   "id": "5771d827",
   "metadata": {
    "scrolled": false
   },
   "outputs": [
    {
     "data": {
      "text/plain": [
       "[<matplotlib.lines.Line2D at 0x119a8b5b5b0>,\n",
       " <matplotlib.lines.Line2D at 0x119a8b5b610>,\n",
       " <matplotlib.lines.Line2D at 0x119a8aa4b20>,\n",
       " <matplotlib.lines.Line2D at 0x119a8aa4a90>,\n",
       " <matplotlib.lines.Line2D at 0x119a8b5b640>]"
      ]
     },
     "execution_count": 11,
     "metadata": {},
     "output_type": "execute_result"
    },
    {
     "data": {
      "image/png": "[encoded data removed]",
      "text/plain": [
       "<Figure size 640x480 with 1 Axes>"
      ]
     },
     "metadata": {},
     "output_type": "display_data"
    }
   ],
   "source": [
    "plt.plot(t_total,ret[:,0:5]+ret[:,5:10]+ret[:,10:])"
   ]
  },
  {
   "cell_type": "code",
   "execution_count": 12,
   "id": "4239b490",
   "metadata": {},
   "outputs": [
    {
     "data": {
      "text/plain": [
       "[<matplotlib.lines.Line2D at 0x119a9b70df0>,\n",
       " <matplotlib.lines.Line2D at 0x119a8b5bbe0>,\n",
       " <matplotlib.lines.Line2D at 0x119a8891fd0>,\n",
       " <matplotlib.lines.Line2D at 0x119a9b70e50>,\n",
       " <matplotlib.lines.Line2D at 0x119a9b7c040>]"
      ]
     },
     "execution_count": 12,
     "metadata": {},
     "output_type": "execute_result"
    },
    {
     "data": {
      "image/png": "[encoded data removed]",
      "text/plain": [
       "<Figure size 640x480 with 1 Axes>"
      ]
     },
     "metadata": {},
     "output_type": "display_data"
    }
   ],
   "source": [
    "plt.plot(t_total,ret[:,5:10]*pop)"
   ]
  },
  {
   "cell_type": "code",
   "execution_count": null,
   "id": "dc236ca0",
   "metadata": {},
   "outputs": [],
   "source": []
  },
  {
   "cell_type": "code",
   "execution_count": null,
   "id": "4af82498",
   "metadata": {},
   "outputs": [],
   "source": []
  },
  {
   "cell_type": "code",
   "execution_count": null,
   "id": "49dcf722",
   "metadata": {},
   "outputs": [],
   "source": []
  },
  {
   "cell_type": "code",
   "execution_count": null,
   "id": "3dbf90ea",
   "metadata": {},
   "outputs": [],
   "source": []
  },
  {
   "cell_type": "code",
   "execution_count": null,
   "id": "79e8f29c",
   "metadata": {},
   "outputs": [],
   "source": []
  }
 ],
 "metadata": {
  "kernelspec": {
   "display_name": "Python 3 (ipykernel)",
   "language": "python",
   "name": "python3"
  },
  "language_info": {
   "codemirror_mode": {
    "name": "ipython",
    "version": 3
   },
   "file_extension": ".py",
   "mimetype": "text/x-python",
   "name": "python",
   "nbconvert_exporter": "python",
   "pygments_lexer": "ipython3",
   "version": "3.8.16"
  }
 },
 "nbformat": 4,
 "nbformat_minor": 5
}

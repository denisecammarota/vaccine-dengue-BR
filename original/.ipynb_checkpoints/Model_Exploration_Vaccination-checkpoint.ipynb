{
 "cells": [
  {
   "cell_type": "code",
   "execution_count": 1,
   "id": "a0dc05b9",
   "metadata": {},
   "outputs": [],
   "source": [
    "import numpy as np\n",
    "import matplotlib.pyplot as plt\n",
    "from scipy.integrate import odeint\n",
    "np.random.seed(123)"
   ]
  },
  {
   "cell_type": "code",
   "execution_count": 2,
   "id": "2df38b40",
   "metadata": {},
   "outputs": [],
   "source": [
    "def modify_initial_condition(y0, prop_imported):\n",
    "    y0_aux = y0.copy()\n",
    "    y0[1] = y0_aux[1] - y0_aux[1]*prop_imported \n",
    "    y0[2] = y0_aux[2] + y0_aux[1]*prop_imported\n",
    "    y0[3] = y0_aux[3] - y0_aux[3]*prop_imported\n",
    "    y0[4] = y0_aux[4] + y0_aux[3]*prop_imported \n",
    "    y0[6] = y0_aux[6] - y0_aux[6]*prop_imported \n",
    "    y0[7] = y0_aux[7] + y0_aux[6]*prop_imported \n",
    "    return y0"
   ]
  },
  {
   "cell_type": "code",
   "execution_count": 3,
   "id": "bb3153fb",
   "metadata": {},
   "outputs": [],
   "source": [
    "def three_groups_vac_model(y, t, beta, mu_0, mu_1, mu_2, gamma, l_0, l_1,  nu, vac_1, vac_2, vac_3):\n",
    "    S_0, I_0, R_0, S_1, I_1, R_1, S_2, I_2, R_2 = y\n",
    "    I_T = I_0 + I_1 + I_2\n",
    "    dS_0dt = nu - beta*S_0*I_T - mu_0*S_0 - l_0*S_0 - vac_0*S_0\n",
    "    dI_0dt = beta*S_0*I_T - gamma*I_0 - mu_0*I_0 - l_0*I_0\n",
    "    dR_0dt = gamma*I_0 - mu_0*R_0 - l_0*R_0 + vac_0*S_0\n",
    "    dS_1dt = -l_1*S_1 + l_0*S_0 - mu_1*S_1 - beta*S_1*I_T - vac_1*S_1\n",
    "    dI_1dt = -l_1*I_1 + l_0*I_0 - mu_1*I_1 + beta*S_1*I_T - gamma*I_1\n",
    "    dR_1dt = -l_1*R_1 + l_0*R_0 - mu_1*R_1 + gamma*I_1 + vac_1*S_1\n",
    "    dS_2dt = l_1*S_1 - mu_2*S_2 - beta*S_2*I_T - vac_2*S_2\n",
    "    dI_2dt = l_1*I_1 - mu_2*I_2 + beta*S_2*I_T - gamma*I_2\n",
    "    dR_2dt = l_1*R_1 - mu_2*R_2 + gamma*I_2 + vac_2*S_2\n",
    "    return [dS_0dt,dI_0dt,dR_0dt,dS_1dt,dI_1dt,dR_1dt,dS_2dt,dI_2dt,dR_2dt]"
   ]
  },
  {
   "cell_type": "code",
   "execution_count": 4,
   "id": "a0ac5967",
   "metadata": {},
   "outputs": [],
   "source": [
    "def three_groups_vac_seasonal_model(y, t, beta_0, beta_aug, t_start, t_season, t_year, mu_0, mu_1, mu_2, gamma, l_0, l_1, nu, vac_1, vac_2, vac_3):\n",
    "    S_0, I_0, R_0, S_1, I_1, R_1, S_2, I_2, R_2 = y\n",
    "    I_T = I_0 + I_1 + I_2\n",
    "    beta = beta_step(beta_0,beta_aug,t_start,t_season,t_year,t)\n",
    "    dS_0dt = nu - beta*S_0*I_T - mu_0*S_0 - l_0*S_0 - vac_0*S_0\n",
    "    dI_0dt = beta*S_0*I_T - gamma*I_0 - mu_0*I_0 - l_0*I_0\n",
    "    dR_0dt = gamma*I_0 - mu_0*R_0 - l_0*R_0 + vac_0*S_0\n",
    "    dS_1dt = -l_1*S_1 + l_0*S_0 - mu_1*S_1 - beta*S_1*I_T - vac_1*S_1\n",
    "    dI_1dt = -l_1*I_1 + l_0*I_0 - mu_1*I_1 + beta*S_1*I_T - gamma*I_1\n",
    "    dR_1dt = -l_1*R_1 + l_0*R_0 - mu_1*R_1 + gamma*I_1 + vac_1*S_1\n",
    "    dS_2dt = l_1*S_1 - mu_2*S_2 - beta*S_2*I_T - vac_2*S_2\n",
    "    dI_2dt = l_1*I_1 - mu_2*I_2 + beta*S_2*I_T - gamma*I_2\n",
    "    dR_2dt = l_1*R_1 - mu_2*R_2 + gamma*I_2 + vac_2*S_2\n",
    "    return [dS_0dt,dI_0dt,dR_0dt,dS_1dt,dI_1dt,dR_1dt,dS_2dt,dI_2dt,dR_2dt]"
   ]
  },
  {
   "cell_type": "code",
   "execution_count": 5,
   "id": "26041cc4",
   "metadata": {},
   "outputs": [],
   "source": [
    "@np.vectorize\n",
    "def beta_step(beta_0,beta_aug,t_start,t_season,t_year,t):\n",
    "  # beta_0 is the basal beta\n",
    "  # beta_aug is the beta at high transmission season\n",
    "  # t_start is start time of the high transmission season\n",
    "  # t_season is the duration of the high transmission season\n",
    "  # t_year is the duration of a year (giving the function periodicity)\n",
    "  # t is current time time\n",
    "  # normalize time up to a year\n",
    "  t_norm = t%t_year\n",
    "  # and now we look for the value of the function\n",
    "  if(t_norm >= t_start and t_norm <= t_start + t_season):\n",
    "    value = beta_aug\n",
    "  else:\n",
    "    value = beta_0\n",
    "  return value"
   ]
  },
  {
   "cell_type": "markdown",
   "id": "5e181230",
   "metadata": {},
   "source": [
    "## Vaccination under low transmission scenario"
   ]
  },
  {
   "cell_type": "markdown",
   "id": "4dd0afc4",
   "metadata": {},
   "source": [
    "### Only young people "
   ]
  },
  {
   "cell_type": "code",
   "execution_count": 6,
   "id": "77f198a6",
   "metadata": {},
   "outputs": [],
   "source": [
    "seasons = 20\n",
    "t_single_season = np.arange(0,365,1) \n",
    "t_total_season = np.arange(0,365*seasons,1)\n",
    "prop_imported = 0.05\n",
    "\n",
    "alpha_0 = 0.25\n",
    "alpha_1 = 0.50\n",
    "alpha_2 = 0.25\n",
    "\n",
    "\n",
    "beta_0 = 0.0 \n",
    "beta_aug = 3*(1/7.0) # run with 6 as well\n",
    "t_start = 0\n",
    "t_season = 60\n",
    "t_year = 365\n",
    "\n",
    "gamma = 1/(7.0)\n",
    "l_0 = 1/(10*365)\n",
    "l_1 = 1/(70*365)\n",
    "\n",
    "mu_0 = 0.0\n",
    "mu_1 = (l_0*alpha_0 - l_1*alpha_1)/(alpha_1)\n",
    "mu_2 = (l_1*alpha_1)/(alpha_2)\n",
    "nu = (l_0 + mu_0)*(alpha_0)\n"
   ]
  },
  {
   "cell_type": "code",
   "execution_count": 7,
   "id": "f4e62b4f",
   "metadata": {},
   "outputs": [],
   "source": [
    "y0 = alpha_0, 0.0, 0.0, alpha_1*0.9, alpha_1*0.1, 0.0, alpha_2, 0.0, 0.0\n",
    "\n",
    "vac_0_vec = np.linspace(0,0,seasons)\n",
    "vac_1_vec = np.linspace(0,0,seasons)\n",
    "vac_2_vec = np.linspace(0,0,seasons)\n",
    "\n",
    "vac_0_vec[4:] = 0.001\n",
    "\n",
    "I_0_season = []\n",
    "I_1_season = []\n",
    "I_2_season = []\n",
    "\n",
    "\n",
    "for season in np.arange(seasons):\n",
    "    vac_0 = vac_0_vec[season]\n",
    "    vac_1 = vac_1_vec[season]\n",
    "    vac_2 = vac_2_vec[season]\n",
    "    ret = odeint(three_groups_vac_seasonal_model, y0, t_single_season, args=(beta_0, beta_aug, t_start, t_season, t_year, mu_0, mu_1, mu_2, gamma, l_0, l_1,  nu, vac_0, vac_1, vac_2))\n",
    "    I_0_season.append(list(ret[:,1]))\n",
    "    I_1_season.append(list(ret[:,4]))\n",
    "    I_2_season.append(list(ret[:,7]))\n",
    "    y0 = ret[-1,:].copy()\n",
    "    num = 0.05\n",
    "    y0 = modify_initial_condition(y0,num)"
   ]
  },
  {
   "cell_type": "code",
   "execution_count": 8,
   "id": "7965b240",
   "metadata": {},
   "outputs": [],
   "source": [
    "I_0_season_children = [item for sublist in I_0_season for item in sublist]\n",
    "I_1_season_children = [item for sublist in I_1_season for item in sublist]\n",
    "I_2_season_children = [item for sublist in I_2_season for item in sublist]\n",
    "I_children = np.array(I_0_season_children) + np.array(I_1_season_children) + np.array(I_2_season_children)"
   ]
  },
  {
   "cell_type": "markdown",
   "id": "429a94cd",
   "metadata": {},
   "source": [
    "## Vaccination under high transmission scenario"
   ]
  },
  {
   "cell_type": "markdown",
   "id": "6bd8720a",
   "metadata": {},
   "source": [
    "### Only young people"
   ]
  },
  {
   "cell_type": "code",
   "execution_count": 9,
   "id": "9db38a66",
   "metadata": {},
   "outputs": [],
   "source": [
    "seasons = 20\n",
    "t_single_season = np.arange(0,365,1) \n",
    "t_total_season = np.arange(0,365*seasons,1)\n",
    "prop_imported = 0.1\n",
    "\n",
    "alpha_0 = 0.25\n",
    "alpha_1 = 0.50\n",
    "alpha_2 = 0.25\n",
    "\n",
    "\n",
    "beta_0 = 0.0 \n",
    "beta_aug = 3*(1/7.0) # run with 6 as well\n",
    "t_start = 0\n",
    "t_season = 60\n",
    "t_year = 365\n",
    "\n",
    "gamma = 1/(7.0)\n",
    "l_0 = 1/(10*365)\n",
    "l_1 = 1/(70*365)\n",
    "\n",
    "mu_0 = 0.0\n",
    "mu_1 = (l_0*alpha_0 - l_1*alpha_1)/(alpha_1)\n",
    "mu_2 = (l_1*alpha_1)/(alpha_2)\n",
    "nu = (l_0 + mu_0)*(alpha_0)"
   ]
  },
  {
   "cell_type": "code",
   "execution_count": 10,
   "id": "96041066",
   "metadata": {},
   "outputs": [],
   "source": [
    "y0 = alpha_0, 0.0, 0.0, alpha_1*0.9, alpha_1*0.1, 0.0, alpha_2, 0.0, 0.0\n",
    "\n",
    "vac_0_vec = np.linspace(0,0,seasons)\n",
    "vac_1_vec = np.linspace(0,0,seasons)\n",
    "vac_2_vec = np.linspace(0,0,seasons)\n",
    "\n",
    "vac_0_vec[10:] = 0.1\n",
    "\n",
    "I_0_season = []\n",
    "I_1_season = []\n",
    "I_2_season = []\n",
    "\n",
    "\n",
    "for season in np.arange(seasons):\n",
    "    vac_0 = vac_0_vec[season]\n",
    "    vac_1 = vac_1_vec[season]\n",
    "    vac_2 = vac_2_vec[season]\n",
    "    ret = odeint(three_groups_vac_seasonal_model, y0, t_single_season, args=(beta_0, beta_aug, t_start, t_season, t_year, mu_0, mu_1, mu_2, gamma, l_0, l_1,  nu, vac_0, vac_1, vac_2))\n",
    "    I_0_season.append(list(ret[:,1]))\n",
    "    I_1_season.append(list(ret[:,4]))\n",
    "    I_2_season.append(list(ret[:,7]))\n",
    "    y0 = ret[-1,:].copy()\n",
    "    num = 0.05\n",
    "    y0 = modify_initial_condition(y0,num)"
   ]
  },
  {
   "cell_type": "code",
   "execution_count": 11,
   "id": "35aa0530",
   "metadata": {},
   "outputs": [],
   "source": [
    "I_0_season_children_2 = [item for sublist in I_0_season for item in sublist]\n",
    "I_1_season_children_2 = [item for sublist in I_1_season for item in sublist]\n",
    "I_2_season_children_2 = [item for sublist in I_2_season for item in sublist]\n",
    "I_children_2 = np.array(I_0_season_children_2) + np.array(I_1_season_children_2) + np.array(I_2_season_children_2)"
   ]
  },
  {
   "cell_type": "markdown",
   "id": "7a562c47",
   "metadata": {},
   "source": [
    "## Plotting the results"
   ]
  },
  {
   "cell_type": "code",
   "execution_count": 12,
   "id": "c58807a8",
   "metadata": {},
   "outputs": [
    {
     "data": {
      "image/png": "[encoded data removed]",
      "text/plain": [
       "<Figure size 640x480 with 1 Axes>"
      ]
     },
     "metadata": {},
     "output_type": "display_data"
    }
   ],
   "source": [
    "plt.plot(t_total_season[365*1:]/365,I_children[365*1:], label = '4 years (SP pattern)')\n",
    "plt.plot(t_total_season[365*1:]/365,I_children_2[365*1:], label = '10 years (RJ pattern)')\n",
    "plt.axvline(3, color = 'red', alpha = 0.5)\n",
    "plt.axvline(10, color = 'green', alpha = 0.5)\n",
    "plt.xlabel('Time (years)')\n",
    "plt.ylabel('Infected')\n",
    "plt.legend()\n",
    "plt.show()"
   ]
  },
  {
   "cell_type": "code",
   "execution_count": null,
   "id": "5f9e05ba",
   "metadata": {},
   "outputs": [],
   "source": []
  },
  {
   "cell_type": "code",
   "execution_count": null,
   "id": "2944ce78",
   "metadata": {},
   "outputs": [],
   "source": []
  },
  {
   "cell_type": "code",
   "execution_count": null,
   "id": "71c2c333",
   "metadata": {},
   "outputs": [],
   "source": []
  }
 ],
 "metadata": {
  "kernelspec": {
   "display_name": "Python 3 (ipykernel)",
   "language": "python",
   "name": "python3"
  },
  "language_info": {
   "codemirror_mode": {
    "name": "ipython",
    "version": 3
   },
   "file_extension": ".py",
   "mimetype": "text/x-python",
   "name": "python",
   "nbconvert_exporter": "python",
   "pygments_lexer": "ipython3",
   "version": "3.8.16"
  }
 },
 "nbformat": 4,
 "nbformat_minor": 5
}

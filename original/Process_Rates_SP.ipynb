{
 "cells": [
  {
   "cell_type": "code",
   "execution_count": 23,
   "id": "87ffe9f8",
   "metadata": {},
   "outputs": [],
   "source": [
    "import numpy as np\n",
    "import pandas as pd\n",
    "import matplotlib.pyplot as plt"
   ]
  },
  {
   "cell_type": "code",
   "execution_count": 24,
   "id": "4faf01fd",
   "metadata": {},
   "outputs": [],
   "source": [
    "births_total = 3805375 # 2000-2021\n",
    "births_yearly = births_total/(22)\n",
    "births_daily = births_yearly/(365)"
   ]
  },
  {
   "cell_type": "code",
   "execution_count": 10,
   "id": "95044685",
   "metadata": {},
   "outputs": [],
   "source": [
    "df_deaths = pd.read_csv('deaths_sp.csv', delimiter = ';')"
   ]
  },
  {
   "cell_type": "code",
   "execution_count": 25,
   "id": "b1bcc23f",
   "metadata": {},
   "outputs": [
    {
     "data": {
      "text/plain": [
       "473.8947696139477"
      ]
     },
     "execution_count": 25,
     "metadata": {},
     "output_type": "execute_result"
    }
   ],
   "source": [
    "births_daily"
   ]
  },
  {
   "cell_type": "code",
   "execution_count": 30,
   "id": "198d3c46",
   "metadata": {},
   "outputs": [],
   "source": [
    "df_deaths = pd.read_csv('deaths_sp.csv', delimiter = ';')"
   ]
  },
  {
   "cell_type": "code",
   "execution_count": 31,
   "id": "1c2ec676",
   "metadata": {},
   "outputs": [
    {
     "data": {
      "text/html": [
       "<div>\n",
       "<style scoped>\n",
       "    .dataframe tbody tr th:only-of-type {\n",
       "        vertical-align: middle;\n",
       "    }\n",
       "\n",
       "    .dataframe tbody tr th {\n",
       "        vertical-align: top;\n",
       "    }\n",
       "\n",
       "    .dataframe thead th {\n",
       "        text-align: right;\n",
       "    }\n",
       "</style>\n",
       "<table border=\"1\" class=\"dataframe\">\n",
       "  <thead>\n",
       "    <tr style=\"text-align: right;\">\n",
       "      <th></th>\n",
       "      <th>Municipio</th>\n",
       "      <th>Menor 1 ano</th>\n",
       "      <th>1 a 4 anos</th>\n",
       "      <th>5 a 9 anos</th>\n",
       "      <th>10 a 14 anos</th>\n",
       "      <th>15 a 19 anos</th>\n",
       "      <th>20 a 29 anos</th>\n",
       "      <th>30 a 39 anos</th>\n",
       "      <th>40 a 49 anos</th>\n",
       "      <th>50 a 59 anos</th>\n",
       "      <th>60 a 69 anos</th>\n",
       "      <th>70 a 79 anos</th>\n",
       "      <th>80 anos e mais</th>\n",
       "      <th>Idade ignorada</th>\n",
       "      <th>Total</th>\n",
       "    </tr>\n",
       "  </thead>\n",
       "  <tbody>\n",
       "    <tr>\n",
       "      <th>0</th>\n",
       "      <td>355030 SAO PAULO</td>\n",
       "      <td>47322</td>\n",
       "      <td>7123</td>\n",
       "      <td>3702</td>\n",
       "      <td>4940</td>\n",
       "      <td>21638</td>\n",
       "      <td>60196</td>\n",
       "      <td>74923</td>\n",
       "      <td>123079</td>\n",
       "      <td>200043</td>\n",
       "      <td>272227</td>\n",
       "      <td>333485</td>\n",
       "      <td>463056</td>\n",
       "      <td>4190</td>\n",
       "      <td>1615924</td>\n",
       "    </tr>\n",
       "    <tr>\n",
       "      <th>1</th>\n",
       "      <td>Total</td>\n",
       "      <td>47322</td>\n",
       "      <td>7123</td>\n",
       "      <td>3702</td>\n",
       "      <td>4940</td>\n",
       "      <td>21638</td>\n",
       "      <td>60196</td>\n",
       "      <td>74923</td>\n",
       "      <td>123079</td>\n",
       "      <td>200043</td>\n",
       "      <td>272227</td>\n",
       "      <td>333485</td>\n",
       "      <td>463056</td>\n",
       "      <td>4190</td>\n",
       "      <td>1615924</td>\n",
       "    </tr>\n",
       "  </tbody>\n",
       "</table>\n",
       "</div>"
      ],
      "text/plain": [
       "          Municipio  Menor 1 ano  1 a 4 anos  5 a 9 anos  10 a 14 anos  \\\n",
       "0  355030 SAO PAULO        47322        7123        3702          4940   \n",
       "1             Total        47322        7123        3702          4940   \n",
       "\n",
       "   15 a 19 anos  20 a 29 anos  30 a 39 anos  40 a 49 anos  50 a 59 anos  \\\n",
       "0         21638         60196         74923        123079        200043   \n",
       "1         21638         60196         74923        123079        200043   \n",
       "\n",
       "   60 a 69 anos  70 a 79 anos  80 anos e mais  Idade ignorada    Total  \n",
       "0        272227        333485          463056            4190  1615924  \n",
       "1        272227        333485          463056            4190  1615924  "
      ]
     },
     "execution_count": 31,
     "metadata": {},
     "output_type": "execute_result"
    }
   ],
   "source": [
    "df_deaths"
   ]
  },
  {
   "cell_type": "code",
   "execution_count": 37,
   "id": "6622dfd7",
   "metadata": {},
   "outputs": [],
   "source": [
    "l_vec = np.array([5,5,5,5,10,10,10,10,10,10,20])"
   ]
  },
  {
   "cell_type": "code",
   "execution_count": 39,
   "id": "76c37dbd",
   "metadata": {},
   "outputs": [
    {
     "data": {
      "text/plain": [
       "11"
      ]
     },
     "execution_count": 39,
     "metadata": {},
     "output_type": "execute_result"
    }
   ],
   "source": [
    "len(l_vec)"
   ]
  },
  {
   "cell_type": "code",
   "execution_count": 10,
   "id": "6356185d",
   "metadata": {},
   "outputs": [],
   "source": [
    "df_deaths = pd.read_csv('deaths_sp.csv', delimiter = ';')"
   ]
  },
  {
   "cell_type": "code",
   "execution_count": 32,
   "id": "7bc17438",
   "metadata": {},
   "outputs": [],
   "source": [
    "deaths_total = np.array([47322+7123,3702,4940,21638,60196,74923,123079,200043,272227,333485,463056])\n",
    "deaths_yearly = deaths_total/(22)\n",
    "deaths_daily = deaths_yearly/(365)"
   ]
  },
  {
   "cell_type": "code",
   "execution_count": 36,
   "id": "2d602f41",
   "metadata": {},
   "outputs": [
    {
     "data": {
      "text/plain": [
       "array([ 6.78019925,  0.46102117,  0.61519303,  2.69464508,  7.49638854,\n",
       "        9.33038605, 15.32739726, 24.91195517, 33.90124533, 41.52988792,\n",
       "       57.66575342])"
      ]
     },
     "execution_count": 36,
     "metadata": {},
     "output_type": "execute_result"
    }
   ],
   "source": [
    "deaths_daily"
   ]
  },
  {
   "cell_type": "code",
   "execution_count": 34,
   "id": "6ba6cce4",
   "metadata": {},
   "outputs": [
    {
     "data": {
      "text/plain": [
       "11"
      ]
     },
     "execution_count": 34,
     "metadata": {},
     "output_type": "execute_result"
    }
   ],
   "source": [
    "len(deaths_daily)"
   ]
  },
  {
   "cell_type": "markdown",
   "id": "de37d6b4",
   "metadata": {},
   "source": [
    "## Population pyramid"
   ]
  },
  {
   "cell_type": "code",
   "execution_count": 82,
   "id": "6e33aab7",
   "metadata": {},
   "outputs": [],
   "source": [
    "df_pyramid = pd.read_csv('pop_pyramid_355030.csv', delimiter = ';')"
   ]
  },
  {
   "cell_type": "code",
   "execution_count": 83,
   "id": "cbb46842",
   "metadata": {},
   "outputs": [],
   "source": [
    "df_pyramid = df_pyramid.drop(df_pyramid.columns[0],axis=1)"
   ]
  },
  {
   "cell_type": "code",
   "execution_count": 84,
   "id": "b1be1fe8",
   "metadata": {},
   "outputs": [],
   "source": [
    "df_pyramid.drop(df_pyramid.tail(1).index,inplace=True) "
   ]
  },
  {
   "cell_type": "code",
   "execution_count": 85,
   "id": "25055bc1",
   "metadata": {},
   "outputs": [
    {
     "data": {
      "text/html": [
       "<div>\n",
       "<style scoped>\n",
       "    .dataframe tbody tr th:only-of-type {\n",
       "        vertical-align: middle;\n",
       "    }\n",
       "\n",
       "    .dataframe tbody tr th {\n",
       "        vertical-align: top;\n",
       "    }\n",
       "\n",
       "    .dataframe thead th {\n",
       "        text-align: right;\n",
       "    }\n",
       "</style>\n",
       "<table border=\"1\" class=\"dataframe\">\n",
       "  <thead>\n",
       "    <tr style=\"text-align: right;\">\n",
       "      <th></th>\n",
       "      <th>2007</th>\n",
       "      <th>2008</th>\n",
       "      <th>2009</th>\n",
       "      <th>2010</th>\n",
       "      <th>2011</th>\n",
       "      <th>2012</th>\n",
       "      <th>2013</th>\n",
       "      <th>2014</th>\n",
       "      <th>2015</th>\n",
       "      <th>2016</th>\n",
       "      <th>2017</th>\n",
       "      <th>2018</th>\n",
       "      <th>2019</th>\n",
       "      <th>2020</th>\n",
       "      <th>2021</th>\n",
       "    </tr>\n",
       "  </thead>\n",
       "  <tbody>\n",
       "    <tr>\n",
       "      <th>0</th>\n",
       "      <td>813774</td>\n",
       "      <td>805160</td>\n",
       "      <td>797458</td>\n",
       "      <td>789221</td>\n",
       "      <td>785149</td>\n",
       "      <td>786151</td>\n",
       "      <td>787457</td>\n",
       "      <td>789398</td>\n",
       "      <td>795045</td>\n",
       "      <td>797644</td>\n",
       "      <td>795839</td>\n",
       "      <td>795350</td>\n",
       "      <td>792797</td>\n",
       "      <td>785656</td>\n",
       "      <td>779817</td>\n",
       "    </tr>\n",
       "    <tr>\n",
       "      <th>1</th>\n",
       "      <td>883132</td>\n",
       "      <td>862695</td>\n",
       "      <td>843881</td>\n",
       "      <td>829201</td>\n",
       "      <td>812265</td>\n",
       "      <td>800196</td>\n",
       "      <td>791719</td>\n",
       "      <td>784326</td>\n",
       "      <td>776648</td>\n",
       "      <td>772911</td>\n",
       "      <td>774259</td>\n",
       "      <td>775886</td>\n",
       "      <td>778181</td>\n",
       "      <td>784190</td>\n",
       "      <td>787114</td>\n",
       "    </tr>\n",
       "    <tr>\n",
       "      <th>2</th>\n",
       "      <td>862269</td>\n",
       "      <td>873278</td>\n",
       "      <td>880126</td>\n",
       "      <td>879420</td>\n",
       "      <td>878949</td>\n",
       "      <td>868956</td>\n",
       "      <td>854946</td>\n",
       "      <td>842617</td>\n",
       "      <td>834429</td>\n",
       "      <td>817514</td>\n",
       "      <td>805589</td>\n",
       "      <td>797279</td>\n",
       "      <td>790079</td>\n",
       "      <td>782675</td>\n",
       "      <td>779315</td>\n",
       "    </tr>\n",
       "    <tr>\n",
       "      <th>3</th>\n",
       "      <td>903321</td>\n",
       "      <td>880650</td>\n",
       "      <td>863348</td>\n",
       "      <td>853843</td>\n",
       "      <td>859262</td>\n",
       "      <td>871212</td>\n",
       "      <td>886366</td>\n",
       "      <td>898948</td>\n",
       "      <td>905187</td>\n",
       "      <td>904674</td>\n",
       "      <td>894418</td>\n",
       "      <td>880005</td>\n",
       "      <td>867374</td>\n",
       "      <td>859068</td>\n",
       "      <td>841885</td>\n",
       "    </tr>\n",
       "    <tr>\n",
       "      <th>4</th>\n",
       "      <td>2097734</td>\n",
       "      <td>2103671</td>\n",
       "      <td>2102531</td>\n",
       "      <td>2094535</td>\n",
       "      <td>2064535</td>\n",
       "      <td>2025738</td>\n",
       "      <td>1981855</td>\n",
       "      <td>1937934</td>\n",
       "      <td>1897157</td>\n",
       "      <td>1880057</td>\n",
       "      <td>1865477</td>\n",
       "      <td>1852840</td>\n",
       "      <td>1840611</td>\n",
       "      <td>1827398</td>\n",
       "      <td>1832490</td>\n",
       "    </tr>\n",
       "    <tr>\n",
       "      <th>5</th>\n",
       "      <td>1836048</td>\n",
       "      <td>1863014</td>\n",
       "      <td>1892613</td>\n",
       "      <td>1924720</td>\n",
       "      <td>1953963</td>\n",
       "      <td>1985463</td>\n",
       "      <td>2016924</td>\n",
       "      <td>2044988</td>\n",
       "      <td>2067184</td>\n",
       "      <td>2073835</td>\n",
       "      <td>2075468</td>\n",
       "      <td>2071238</td>\n",
       "      <td>2060804</td>\n",
       "      <td>2044135</td>\n",
       "      <td>2015873</td>\n",
       "    </tr>\n",
       "    <tr>\n",
       "      <th>6</th>\n",
       "      <td>1538845</td>\n",
       "      <td>1553493</td>\n",
       "      <td>1565961</td>\n",
       "      <td>1576878</td>\n",
       "      <td>1594969</td>\n",
       "      <td>1611819</td>\n",
       "      <td>1628664</td>\n",
       "      <td>1647197</td>\n",
       "      <td>1668461</td>\n",
       "      <td>1692987</td>\n",
       "      <td>1720140</td>\n",
       "      <td>1749690</td>\n",
       "      <td>1781500</td>\n",
       "      <td>1815242</td>\n",
       "      <td>1845307</td>\n",
       "    </tr>\n",
       "    <tr>\n",
       "      <th>7</th>\n",
       "      <td>1128039</td>\n",
       "      <td>1163826</td>\n",
       "      <td>1198623</td>\n",
       "      <td>1232271</td>\n",
       "      <td>1260153</td>\n",
       "      <td>1286782</td>\n",
       "      <td>1311886</td>\n",
       "      <td>1335040</td>\n",
       "      <td>1356023</td>\n",
       "      <td>1376993</td>\n",
       "      <td>1396012</td>\n",
       "      <td>1413217</td>\n",
       "      <td>1428988</td>\n",
       "      <td>1443722</td>\n",
       "      <td>1463257</td>\n",
       "    </tr>\n",
       "    <tr>\n",
       "      <th>8</th>\n",
       "      <td>657244</td>\n",
       "      <td>680395</td>\n",
       "      <td>706366</td>\n",
       "      <td>735188</td>\n",
       "      <td>767663</td>\n",
       "      <td>802480</td>\n",
       "      <td>839059</td>\n",
       "      <td>876552</td>\n",
       "      <td>914356</td>\n",
       "      <td>948621</td>\n",
       "      <td>982987</td>\n",
       "      <td>1017048</td>\n",
       "      <td>1050511</td>\n",
       "      <td>1083124</td>\n",
       "      <td>1110842</td>\n",
       "    </tr>\n",
       "    <tr>\n",
       "      <th>9</th>\n",
       "      <td>385809</td>\n",
       "      <td>394862</td>\n",
       "      <td>404223</td>\n",
       "      <td>413760</td>\n",
       "      <td>423657</td>\n",
       "      <td>434058</td>\n",
       "      <td>445474</td>\n",
       "      <td>458612</td>\n",
       "      <td>473927</td>\n",
       "      <td>492877</td>\n",
       "      <td>513814</td>\n",
       "      <td>536842</td>\n",
       "      <td>562093</td>\n",
       "      <td>589507</td>\n",
       "      <td>618561</td>\n",
       "    </tr>\n",
       "    <tr>\n",
       "      <th>10</th>\n",
       "      <td>168135</td>\n",
       "      <td>179727</td>\n",
       "      <td>193757</td>\n",
       "      <td>207217</td>\n",
       "      <td>216452</td>\n",
       "      <td>225709</td>\n",
       "      <td>235056</td>\n",
       "      <td>244673</td>\n",
       "      <td>254620</td>\n",
       "      <td>264803</td>\n",
       "      <td>275884</td>\n",
       "      <td>287471</td>\n",
       "      <td>299085</td>\n",
       "      <td>310515</td>\n",
       "      <td>321911</td>\n",
       "    </tr>\n",
       "  </tbody>\n",
       "</table>\n",
       "</div>"
      ],
      "text/plain": [
       "       2007     2008     2009     2010     2011     2012     2013     2014  \\\n",
       "0    813774   805160   797458   789221   785149   786151   787457   789398   \n",
       "1    883132   862695   843881   829201   812265   800196   791719   784326   \n",
       "2    862269   873278   880126   879420   878949   868956   854946   842617   \n",
       "3    903321   880650   863348   853843   859262   871212   886366   898948   \n",
       "4   2097734  2103671  2102531  2094535  2064535  2025738  1981855  1937934   \n",
       "5   1836048  1863014  1892613  1924720  1953963  1985463  2016924  2044988   \n",
       "6   1538845  1553493  1565961  1576878  1594969  1611819  1628664  1647197   \n",
       "7   1128039  1163826  1198623  1232271  1260153  1286782  1311886  1335040   \n",
       "8    657244   680395   706366   735188   767663   802480   839059   876552   \n",
       "9    385809   394862   404223   413760   423657   434058   445474   458612   \n",
       "10   168135   179727   193757   207217   216452   225709   235056   244673   \n",
       "\n",
       "       2015     2016     2017     2018     2019     2020     2021  \n",
       "0    795045   797644   795839   795350   792797   785656   779817  \n",
       "1    776648   772911   774259   775886   778181   784190   787114  \n",
       "2    834429   817514   805589   797279   790079   782675   779315  \n",
       "3    905187   904674   894418   880005   867374   859068   841885  \n",
       "4   1897157  1880057  1865477  1852840  1840611  1827398  1832490  \n",
       "5   2067184  2073835  2075468  2071238  2060804  2044135  2015873  \n",
       "6   1668461  1692987  1720140  1749690  1781500  1815242  1845307  \n",
       "7   1356023  1376993  1396012  1413217  1428988  1443722  1463257  \n",
       "8    914356   948621   982987  1017048  1050511  1083124  1110842  \n",
       "9    473927   492877   513814   536842   562093   589507   618561  \n",
       "10   254620   264803   275884   287471   299085   310515   321911  "
      ]
     },
     "execution_count": 85,
     "metadata": {},
     "output_type": "execute_result"
    }
   ],
   "source": [
    "df_pyramid"
   ]
  },
  {
   "cell_type": "code",
   "execution_count": 86,
   "id": "202ca4b0",
   "metadata": {},
   "outputs": [],
   "source": [
    "m_pyramid = df_pyramid.to_numpy()"
   ]
  },
  {
   "cell_type": "code",
   "execution_count": 87,
   "id": "cbfe9e80",
   "metadata": {},
   "outputs": [
    {
     "data": {
      "text/plain": [
       "(11, 15)"
      ]
     },
     "execution_count": 87,
     "metadata": {},
     "output_type": "execute_result"
    }
   ],
   "source": [
    "m_pyramid.shape"
   ]
  },
  {
   "cell_type": "code",
   "execution_count": 88,
   "id": "bad8ea25",
   "metadata": {},
   "outputs": [],
   "source": [
    "pop_pyramid_avg = m_pyramid.sum(axis = 1)"
   ]
  },
  {
   "cell_type": "code",
   "execution_count": 89,
   "id": "8ce1db08",
   "metadata": {},
   "outputs": [],
   "source": [
    "pop_pyramid_avg = pop_pyramid_avg/15"
   ]
  },
  {
   "cell_type": "code",
   "execution_count": 90,
   "id": "f7fd8457",
   "metadata": {},
   "outputs": [
    {
     "data": {
      "text/plain": [
       "array([ 793061.06666667,  803773.6       ,  836496.06666667,\n",
       "        877970.73333333, 1960304.2       , 1995084.66666667,\n",
       "       1666076.86666667, 1319655.46666667,  878162.4       ,\n",
       "        476538.4       ,  245667.66666667])"
      ]
     },
     "execution_count": 90,
     "metadata": {},
     "output_type": "execute_result"
    }
   ],
   "source": [
    "pop_pyramid_avg "
   ]
  }
 ],
 "metadata": {
  "kernelspec": {
   "display_name": "Python 3 (ipykernel)",
   "language": "python",
   "name": "python3"
  },
  "language_info": {
   "codemirror_mode": {
    "name": "ipython",
    "version": 3
   },
   "file_extension": ".py",
   "mimetype": "text/x-python",
   "name": "python",
   "nbconvert_exporter": "python",
   "pygments_lexer": "ipython3",
   "version": "3.10.9"
  }
 },
 "nbformat": 4,
 "nbformat_minor": 5
}
